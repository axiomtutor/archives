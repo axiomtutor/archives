{
 "cells": [
  {
   "cell_type": "markdown",
   "metadata": {},
   "source": [
    "# CSPB 3022 Homework\n",
    "<figure>\n",
    "  <IMG SRC=\"https://www.colorado.edu/cs/profiles/express/themes/cuspirit/logo.png\" WIDTH=50 ALIGN=\"right\">\n",
    "</figure>\n",
    "\n",
    "Before you turn this problem in, make sure everything runs as expected. First, **restart the kernel** (in the menubar, select Kernel$\\rightarrow$Restart) and then **run all cells** (in the menubar, select Cell$\\rightarrow$Run All).\n",
    "\n",
    "Make sure you fill in any place that says `YOUR CODE HERE` or \"YOUR ANSWER HERE\", as well as your name and collaborators below. "
   ]
  },
  {
   "cell_type": "code",
   "execution_count": 2,
   "metadata": {},
   "outputs": [],
   "source": [
    "NAME = \"\"\n",
    "COLLABORATORS = \"\""
   ]
  },
  {
   "cell_type": "markdown",
   "metadata": {},
   "source": [
    "If you referenced any web sites or solutions not of your own creation, list those references here:\n",
    "\n",
    "* List any external references or resources here"
   ]
  },
  {
   "cell_type": "markdown",
   "metadata": {},
   "source": [
    "---"
   ]
  },
  {
   "cell_type": "markdown",
   "metadata": {},
   "source": [
    "# Homework 3"
   ]
  },
  {
   "cell_type": "markdown",
   "metadata": {},
   "source": [
    "In this homework, you'll practice material from the Probability portion of the course, covering\n",
    "* Discrete and continuous random variables\n",
    "* Expectation and vaiance\n",
    "* Joint distributions, covariance, and correlation"
   ]
  },
  {
   "cell_type": "code",
   "execution_count": 3,
   "metadata": {},
   "outputs": [],
   "source": [
    "%matplotlib inline\n",
    "import pandas as pd\n",
    "import matplotlib.pyplot as plt\n",
    "import numpy as np\n",
    "import scipy\n",
    "import scipy.stats\n",
    "import math"
   ]
  },
  {
   "cell_type": "markdown",
   "metadata": {},
   "source": [
    "## Problem #1 - Errors in Speed of Light Meausrement"
   ]
  },
  {
   "cell_type": "markdown",
   "metadata": {},
   "source": [
    "In this problem, you will model two natural phenomena with probability distributions. In each problem, you will extract parameters from the natural data and construct a random variable based on that data using one of the distributions we've discussed in class. You will then justify why your choice of distribution is appropriate using quantitative and qualitative arguements."
   ]
  },
  {
   "cell_type": "markdown",
   "metadata": {},
   "source": [
    "The following data represents the speed of light as indicated by a series of measurements (this is the same data as in Hmwk #2)"
   ]
  },
  {
   "cell_type": "code",
   "execution_count": 4,
   "metadata": {
    "deletable": false,
    "editable": false,
    "nbgrader": {
     "checksum": "4cbbdbab6e6a45665f4432e9819259bf",
     "grade": false,
     "grade_id": "cell-c33d7514735df906",
     "locked": true,
     "schema_version": 1,
     "solution": false
    }
   },
   "outputs": [],
   "source": [
    "l_speed = np.array([  850.,   740.,   900.,  1070.,   930.,   850.,   950.,   980.,\n",
    "         980.,   880.,  1000.,   980.,   930.,   650.,   760.,   810.,\n",
    "        1000.,  1000.,   960.,   960.,   960.,   940.,   960.,   940.,\n",
    "         880.,   800.,   850.,   880.,   900.,   840.,   830.,   790.,\n",
    "         810.,   880.,   880.,   830.,   800.,   790.,   760.,   800.,\n",
    "         880.,   880.,   880.,   860.,   720.,   720.,   620.,   860.,\n",
    "         970.,   950.,   880.,   910.,   850.,   870.,   840.,   840.,\n",
    "         850.,   840.,   840.,   840.,   890.,   810.,   810.,   820.,\n",
    "         800.,   770.,   760.,   740.,   750.,   760.,   910.,   920.,\n",
    "         890.,   860.,   880.,   720.,   840.,   850.,   850.,   780.,\n",
    "         890.,   840.,   780.,   810.,   760.,   810.,   790.,   810.,\n",
    "         820.,   850.,   870.,   870.,   810.,   740.,   810.,   940.,\n",
    "         950.,   800.,   810.,   870.])"
   ]
  },
  {
   "cell_type": "markdown",
   "metadata": {},
   "source": [
    "The following histogram shows the distribution of data. We've added the `density=True` flag in order to show the distribution of the data as a density rather than a count."
   ]
  },
  {
   "cell_type": "code",
   "execution_count": 5,
   "metadata": {
    "deletable": false,
    "editable": false,
    "nbgrader": {
     "checksum": "811b00f5d3f4b34cada22943e55339b6",
     "grade": false,
     "grade_id": "cell-59c09bec14eca5e8",
     "locked": true,
     "schema_version": 1,
     "solution": false
    }
   },
   "outputs": [
    {
     "data": {
      "image/png": "[encoded data removed]",
      "text/plain": [
       "<Figure size 432x288 with 1 Axes>"
      ]
     },
     "metadata": {
      "needs_background": "light"
     },
     "output_type": "display_data"
    }
   ],
   "source": [
    "plt.hist(l_speed, density=True);"
   ]
  },
  {
   "cell_type": "markdown",
   "metadata": {},
   "source": [
    "### (1a) Construct a random variable that models the speed of light\n",
    "\n",
    "Your random variable should be named `l_rv` and should be a \"frozen\" distributions from `stats.scipy`."
   ]
  },
  {
   "cell_type": "code",
   "execution_count": 6,
   "metadata": {
    "deletable": false,
    "nbgrader": {
     "checksum": "818df1d039938b0fa3ab1401f35cc6a4",
     "grade": true,
     "grade_id": "cell-d478aa9e4ccebccb",
     "locked": false,
     "points": 5,
     "schema_version": 1,
     "solution": true
    }
   },
   "outputs": [],
   "source": [
    "# your code here\n",
    "l_rv = scipy.stats.norm(loc=l_speed.mean(), scale=l_speed.std(ddof=1))"
   ]
  },
  {
   "cell_type": "markdown",
   "metadata": {
    "deletable": false,
    "editable": false,
    "nbgrader": {
     "checksum": "e5fa769dd7685004f202ed35b5f09c66",
     "grade": false,
     "grade_id": "cell-50533de8fd59e4bd",
     "locked": true,
     "schema_version": 1,
     "solution": false
    }
   },
   "source": [
    "### (1b) Compare the distributions using a Quantile-Quantile or Percentile plot\n",
    "\n",
    "Prepare a QQ-plot (quantile-quantile plot) of the empirical data and your `l_rv` random variate. You should use `np.percentile` to extract the percentile data from your empirical data. You should plot no fewer than 10 points (*e.g.* 0, 0.1, 0.2, .., 0.9, 1.0 - quantiles)"
   ]
  },
  {
   "cell_type": "code",
   "execution_count": 7,
   "metadata": {
    "deletable": false,
    "nbgrader": {
     "checksum": "9f850d705623908935868b13c65cad45",
     "grade": true,
     "grade_id": "cell-89dedb4c3f0aa283",
     "locked": false,
     "points": 5,
     "schema_version": 1,
     "solution": true
    }
   },
   "outputs": [],
   "source": [
    "# your code here\n",
    "q1 = l_rv.rvs(size=100)"
   ]
  },
  {
   "cell_type": "markdown",
   "metadata": {},
   "source": [
    "### (1c) Now, plot the PDF of your RV and overlay the histogram from l_speed\n",
    "\n",
    "You should see the PDF of your distribution closely matching the histogram of the data. You may need to adjust the parameters of your R.V. to match the distribution closely. It may be important to [read the reference pages](https://docs.scipy.org/doc/scipy/reference/stats.html) concerning the probability distribution you believe this to be."
   ]
  },
  {
   "cell_type": "code",
   "execution_count": 8,
   "metadata": {
    "deletable": false,
    "nbgrader": {
     "checksum": "3af7529801d285facedaba28d1eb2aa8",
     "grade": true,
     "grade_id": "cell-d715b61092cff4a5",
     "locked": false,
     "points": 5,
     "schema_version": 1,
     "solution": true
    }
   },
   "outputs": [
    {
     "data": {
      "text/plain": [
       "[<matplotlib.lines.Line2D at 0x7fc9bff18760>]"
      ]
     },
     "execution_count": 8,
     "metadata": {},
     "output_type": "execute_result"
    },
    {
     "data": {
      "image/png": "[encoded data removed]",
      "text/plain": [
       "<Figure size 432x288 with 1 Axes>"
      ]
     },
     "metadata": {
      "needs_background": "light"
     },
     "output_type": "display_data"
    }
   ],
   "source": [
    "# your code here\n",
    "plt.hist(l_speed, density=True);\n",
    "xs = np.linspace(min(l_speed),max(l_speed), 100)\n",
    "plt.plot(xs, l_rv.pdf(xs))"
   ]
  },
  {
   "cell_type": "markdown",
   "metadata": {},
   "source": [
    "### (1d) Explain why a Q-Q plot *and* a PDF plot are useful\n",
    "\n",
    "In the above process, we asked you to prepare a quantile-quantile plot and a second plot that overlays the empirical data and your estimated distribution of the data.\n",
    "\n",
    "Explain why both are useful and why the second would be necessary to determine if you have the proper distribution even if the QQ-plot indicates you have the correct distribution."
   ]
  },
  {
   "cell_type": "markdown",
   "metadata": {
    "deletable": false,
    "nbgrader": {
     "checksum": "5351b085465664b37ff717fa6685244d",
     "grade": true,
     "grade_id": "cell-c0a426291af86865",
     "locked": false,
     "points": 10,
     "schema_version": 1,
     "solution": true
    }
   },
   "source": [
    "# your code here\n",
    "The Q-Q plot shows how the robust statistics of quantiles match against the theoretical values of the quantiles.  A histogram plot helps to view how well the mean of the data matches against the mean of the theoretical distribution, as well as checking against the variance and symmetry.  The QQ-plot could seem like a good fit, but it is still possible for the mean to be unequal to the median (i.e. there could be skew in the data), and this would not be easily seen from the QQ-plot which does not represent the mean.  "
   ]
  },
  {
   "cell_type": "markdown",
   "metadata": {},
   "source": [
    "# Problem #2 - Modeling Digits"
   ]
  },
  {
   "cell_type": "markdown",
   "metadata": {},
   "source": [
    "Let $X =$ the leading digit of a randomly selected number from a large accounting\n",
    "ledger. For example, if we randomly draw the number 20,695, then $X = 2$.\n",
    "People who make up numbers to commit accounting fraud tend to give $X$ a (discrete) uniform distribution, i.e., $P(X = x) = \\frac{1}{9}$, for $x \\in \\{1, ..., 9\\}$. However,\n",
    "[Benford's law](https://en.wikipedia.org/wiki/Benford%27s_law)  provides empirical evidence that suggests that _naturally occurring_ numbers (e.g.,\n",
    "numbers in a non-fraudulent accounting ledgers) have leading digits that do not\n",
    "follow a uniform distribution. Instead, they follow a distribution defined by the following probability mass function:\n",
    "\n",
    "$$\n",
    "f(x) = \\log_{10}\\left( \\frac{x+1}{x} \\right) \\quad \\textrm{for } x = 1, 2, \\ldots, 9\n",
    "$$\n",
    "\n",
    "You are given the vector `d_x` below that defines the `x` above."
   ]
  },
  {
   "cell_type": "code",
   "execution_count": 9,
   "metadata": {
    "deletable": false,
    "editable": false,
    "nbgrader": {
     "checksum": "a040428464f70764e2775f30572ae5c6",
     "grade": false,
     "grade_id": "cell-36cafc4ad89d9637",
     "locked": true,
     "schema_version": 1,
     "solution": false
    }
   },
   "outputs": [],
   "source": [
    "d_x = np.arange(9)+1"
   ]
  },
  {
   "cell_type": "markdown",
   "metadata": {},
   "source": [
    "### (2a) Define a vector `d_y` defining f(x)\n",
    "\n",
    "Define a vector `d_y` that is the output of the function $f(x)$ described above. If different logarithm bases are a distant memory, you may [want to refresh your memory](https://math.stackexchange.com/questions/107574/from-natural-log-to-log-base-10) about base changes."
   ]
  },
  {
   "cell_type": "code",
   "execution_count": 10,
   "metadata": {
    "deletable": false,
    "nbgrader": {
     "checksum": "22b58fe01e3294c92f9d6f0448460998",
     "grade": false,
     "grade_id": "cell-c80c7c007a7c3e3e",
     "locked": false,
     "schema_version": 1,
     "solution": true
    }
   },
   "outputs": [
    {
     "name": "stdout",
     "output_type": "stream",
     "text": [
      "[1 2 3 4 5 6 7 8 9]\n"
     ]
    },
    {
     "data": {
      "text/plain": [
       "array([0.30103   , 0.17609126, 0.12493874, 0.09691001, 0.07918125,\n",
       "       0.06694679, 0.05799195, 0.05115252, 0.04575749])"
      ]
     },
     "execution_count": 10,
     "metadata": {},
     "output_type": "execute_result"
    }
   ],
   "source": [
    "# your code here\n",
    "d_y = np.log10((d_x+1)/d_x)\n",
    "print(d_x)\n",
    "d_y"
   ]
  },
  {
   "cell_type": "code",
   "execution_count": 11,
   "metadata": {
    "deletable": false,
    "editable": false,
    "nbgrader": {
     "checksum": "8f2a8a089a81a7929911f8c4aefc8619",
     "grade": true,
     "grade_id": "cell-75b90471a6e728d2",
     "locked": true,
     "points": 5,
     "schema_version": 1,
     "solution": false
    }
   },
   "outputs": [],
   "source": [
    "assert len(d_y) == 9"
   ]
  },
  {
   "cell_type": "markdown",
   "metadata": {},
   "source": [
    "### (2b) Probability Distribution\n",
    "\n",
    "Argue that $f(x)$ defines a proper proability distribution. You should ground your argument in the properties of probability distributions mentioned in class and in the textbook."
   ]
  },
  {
   "cell_type": "code",
   "execution_count": 12,
   "metadata": {
    "deletable": false,
    "nbgrader": {
     "checksum": "8ae112540e84f2af0f27a48bfbe640d9",
     "grade": true,
     "grade_id": "cell-2187031fcc184769",
     "locked": false,
     "points": 5,
     "schema_version": 1,
     "solution": true
    }
   },
   "outputs": [],
   "source": [
    "# your code here\n",
    "assert abs(sum(d_y)-1)<10**(-5)\n",
    "assert (d_y >= 0).all()"
   ]
  },
  {
   "cell_type": "markdown",
   "metadata": {},
   "source": [
    "### (2c) Is there tax fraud?\n",
    "\n",
    "\n",
    "The data in `tax_data.txt` contains the taxable income for individuals in 1978. Use Pandas and probability distribution above to determine whether or not the dataset is likely fraudulent.\n",
    "\n",
    "You will need to read in tax data from a text file, [extract the leading digit of each non-zero tax payment](https://www.sitepoint.com/community/t/logarithm-to-get-the-first-digit-of-a-number/206396) and then determine if that data is likely fraudulent.\n",
    "\n",
    "Your first step will be to plot the distribution of digits in the data file *vs.* the theoretical distribution.\n",
    "\n",
    "you will need [convert NumPy data to integers](https://docs.scipy.org/doc/numpy-1.13.0/reference/generated/numpy.ndarray.astype.html) to make this work. The data is a tab-seperated file; we've provided the commands to read in that data and convert it to integers."
   ]
  },
  {
   "cell_type": "code",
   "execution_count": 13,
   "metadata": {
    "deletable": false,
    "editable": false,
    "nbgrader": {
     "checksum": "fb8f76efe5ab8aa3a87bc33462a91bf8",
     "grade": false,
     "grade_id": "cell-c72cd8e03ac2520e",
     "locked": true,
     "schema_version": 1,
     "solution": false
    }
   },
   "outputs": [
    {
     "data": {
      "text/plain": [
       "1    5601\n",
       "2    4977\n",
       "3    5959\n",
       "4    6267\n",
       "5    5221\n",
       "Name: Tax Incomes, dtype: int64"
      ]
     },
     "execution_count": 13,
     "metadata": {},
     "output_type": "execute_result"
    }
   ],
   "source": [
    "d_pd = pd.read_csv('tax_data.txt',sep='\\t')\n",
    "d_taxes = d_pd['Tax Incomes'].astype(int)\n",
    "d_taxes.head()"
   ]
  },
  {
   "cell_type": "code",
   "execution_count": 14,
   "metadata": {
    "deletable": false,
    "nbgrader": {
     "checksum": "6c1fa4005a7dbdc5e96e3c2907d66e02",
     "grade": true,
     "grade_id": "cell-cc4cb067706bd535",
     "locked": false,
     "points": 5,
     "schema_version": 1,
     "solution": true
    }
   },
   "outputs": [
    {
     "data": {
      "text/plain": [
       "[<matplotlib.lines.Line2D at 0x7fc9bfe29fa0>]"
      ]
     },
     "execution_count": 14,
     "metadata": {},
     "output_type": "execute_result"
    },
    {
     "data": {
      "image/png": "[encoded data removed]",
      "text/plain": [
       "<Figure size 432x288 with 1 Axes>"
      ]
     },
     "metadata": {
      "needs_background": "light"
     },
     "output_type": "display_data"
    }
   ],
   "source": [
    "# your code here\n",
    "plt.hist(d_taxes % 10, density=True)\n",
    "plt.plot(d_x,d_y)"
   ]
  },
  {
   "cell_type": "markdown",
   "metadata": {},
   "source": [
    "### (2d) Argue whether fraud is likely or not.\n",
    "\n",
    "Based on your data analysis, indicate if fraud is likely or not."
   ]
  },
  {
   "cell_type": "markdown",
   "metadata": {
    "deletable": false,
    "nbgrader": {
     "checksum": "ce0ebf2e4e5d1e27dc76f833bf1aaae5",
     "grade": true,
     "grade_id": "cell-af5b09debff4eda1",
     "locked": false,
     "points": 5,
     "schema_version": 1,
     "solution": true
    }
   },
   "source": [
    "YOUR ANSWER HERE\n",
    "\n",
    "Yeeeeep."
   ]
  },
  {
   "cell_type": "markdown",
   "metadata": {
    "deletable": false,
    "nbgrader": {
     "checksum": "107e5033c74390567ee7fc6044ba9cd0",
     "grade": true,
     "grade_id": "cell-c1b1dc5c0894422d",
     "locked": false,
     "points": 5,
     "schema_version": 1,
     "solution": true
    }
   },
   "source": [
    "# Problem #3 - Modeling Plane Crash"
   ]
  },
  {
   "cell_type": "markdown",
   "metadata": {
    "deletable": false,
    "nbgrader": {
     "checksum": "8efb66e94bea12f1c2581f8fd13bae8c",
     "grade": true,
     "grade_id": "cell-e7941dde2c3c3099",
     "locked": false,
     "points": 5,
     "schema_version": 1,
     "solution": true
    }
   },
   "source": [
    "We'll explore the plane crash data, which is a univariable time series data.    \n",
    "The original data is from https://www.kaggle.com/nguyenhoc/plane-crash. In the provided file `plane_crash_data.csv` I just took one variable (crash date) for simplicity.    "
   ]
  },
  {
   "cell_type": "markdown",
   "metadata": {
    "deletable": false,
    "nbgrader": {
     "checksum": "26f937d30345952aa95881f92d744573",
     "grade": true,
     "grade_id": "cell-3f837285f04107d3",
     "locked": false,
     "points": 2,
     "schema_version": 1,
     "solution": true
    }
   },
   "source": [
    "### (3a) Import the data to Pandas dataframe and make columns named 'Y', 'M', and 'D' and fill those values. \n",
    "You may want to change the data type of the three columns into integer.\n",
    "e.g. the first row will look like\n",
    "\n",
    "| _   | Date | Y | M | D |\n",
    "| :--: | :-------: | :---: | :---: | :---: |\n",
    "|0 | 9/17/1908 | 1908 | 9 |17|  \n",
    "\n",
    "*Hint1: Use .apply(lambda x: ) method*    \n",
    "*Hint2: Use .split() method to split the date string by '/'*    \n",
    "*Hint3: Use .astype() method to change the data type of a column*"
   ]
  },
  {
   "cell_type": "code",
   "execution_count": 18,
   "metadata": {
    "deletable": false,
    "nbgrader": {
     "checksum": "9320cb6fea27658d48dd395e0fc7040c",
     "grade": true,
     "grade_id": "cell-c4b9ead756572744",
     "locked": false,
     "points": 3,
     "schema_version": 1,
     "solution": true
    }
   },
   "outputs": [
    {
     "data": {
      "text/html": [
       "<div>\n",
       "<style scoped>\n",
       "    .dataframe tbody tr th:only-of-type {\n",
       "        vertical-align: middle;\n",
       "    }\n",
       "\n",
       "    .dataframe tbody tr th {\n",
       "        vertical-align: top;\n",
       "    }\n",
       "\n",
       "    .dataframe thead th {\n",
       "        text-align: right;\n",
       "    }\n",
       "</style>\n",
       "<table border=\"1\" class=\"dataframe\">\n",
       "  <thead>\n",
       "    <tr style=\"text-align: right;\">\n",
       "      <th></th>\n",
       "      <th>Date</th>\n",
       "      <th>Y</th>\n",
       "      <th>M</th>\n",
       "      <th>D</th>\n",
       "    </tr>\n",
       "  </thead>\n",
       "  <tbody>\n",
       "    <tr>\n",
       "      <th>0</th>\n",
       "      <td>9/17/1908</td>\n",
       "      <td>1908</td>\n",
       "      <td>9</td>\n",
       "      <td>17</td>\n",
       "    </tr>\n",
       "    <tr>\n",
       "      <th>1</th>\n",
       "      <td>9/7/1909</td>\n",
       "      <td>1909</td>\n",
       "      <td>9</td>\n",
       "      <td>7</td>\n",
       "    </tr>\n",
       "    <tr>\n",
       "      <th>2</th>\n",
       "      <td>7/12/1912</td>\n",
       "      <td>1912</td>\n",
       "      <td>7</td>\n",
       "      <td>12</td>\n",
       "    </tr>\n",
       "    <tr>\n",
       "      <th>3</th>\n",
       "      <td>8/6/1913</td>\n",
       "      <td>1913</td>\n",
       "      <td>8</td>\n",
       "      <td>6</td>\n",
       "    </tr>\n",
       "    <tr>\n",
       "      <th>4</th>\n",
       "      <td>9/9/1913</td>\n",
       "      <td>1913</td>\n",
       "      <td>9</td>\n",
       "      <td>9</td>\n",
       "    </tr>\n",
       "  </tbody>\n",
       "</table>\n",
       "</div>"
      ],
      "text/plain": [
       "        Date     Y  M   D\n",
       "0  9/17/1908  1908  9  17\n",
       "1   9/7/1909  1909  9   7\n",
       "2  7/12/1912  1912  7  12\n",
       "3   8/6/1913  1913  8   6\n",
       "4   9/9/1913  1913  9   9"
      ]
     },
     "execution_count": 18,
     "metadata": {},
     "output_type": "execute_result"
    }
   ],
   "source": [
    "# your code here\n",
    "plane_data = pd.read_csv(\"plane_crash_data.csv\")\n",
    "plane_data[\"Y\"] = plane_data.Date.apply(lambda x: x.split(\"/\")[2]).astype(int)\n",
    "plane_data[\"M\"] = plane_data.Date.apply(lambda x: x.split(\"/\")[0]).astype(int)\n",
    "plane_data[\"D\"] = plane_data.Date.apply(lambda x: x.split(\"/\")[1]).astype(int)\n",
    "\n",
    "plane_data.head()"
   ]
  },
  {
   "cell_type": "markdown",
   "metadata": {
    "deletable": false,
    "nbgrader": {
     "checksum": "3b16d3cf38b969c578f722dd45a460aa",
     "grade": true,
     "grade_id": "cell-d00ca1adfe7a3ccb",
     "locked": false,
     "points": 2,
     "schema_version": 1,
     "solution": true
    }
   },
   "source": [
    "### (3b) Plot a histogram of plane crash by year."
   ]
  },
  {
   "cell_type": "code",
   "execution_count": 37,
   "metadata": {
    "deletable": false,
    "nbgrader": {
     "checksum": "1d09a62340050307589ef407952cc801",
     "grade": true,
     "grade_id": "cell-d90bf4e220f17a5b",
     "locked": false,
     "points": 3,
     "schema_version": 1,
     "solution": true
    }
   },
   "outputs": [
    {
     "data": {
      "text/plain": [
       "(array([  3.,  17.,  55.,  63., 162., 172., 166., 339., 351., 307., 341.,\n",
       "        378., 453., 426., 372., 340., 423., 382., 371., 280., 271.]),\n",
       " array([1908, 1913, 1918, 1923, 1928, 1933, 1938, 1943, 1948, 1953, 1958,\n",
       "        1963, 1968, 1973, 1978, 1983, 1988, 1993, 1998, 2003, 2008, 2013]),\n",
       " <BarContainer object of 21 artists>)"
      ]
     },
     "execution_count": 37,
     "metadata": {},
     "output_type": "execute_result"
    },
    {
     "data": {
      "image/png": "[encoded data removed]",
      "text/plain": [
       "<Figure size 432x288 with 1 Axes>"
      ]
     },
     "metadata": {
      "needs_background": "light"
     },
     "output_type": "display_data"
    }
   ],
   "source": [
    "# your code here\n",
    "plt.hist(plane_data.Y, bins=range(min(plane_data.Y),max(plane_data.Y),5))"
   ]
  },
  {
   "cell_type": "markdown",
   "metadata": {
    "deletable": false,
    "nbgrader": {
     "checksum": "dd2a84c66ef59679a79f879f19c61f39",
     "grade": true,
     "grade_id": "cell-4fec704de8b69159",
     "locked": false,
     "points": 5,
     "schema_version": 1,
     "solution": true
    }
   },
   "source": [
    "### (3c) Among the probability distribution models we learned in the class, which one you think it can be modeled as, and why? Explain why it might not work perfectly. Which assumption(s) does not hold?"
   ]
  },
  {
   "cell_type": "markdown",
   "metadata": {
    "deletable": false,
    "nbgrader": {
     "checksum": "2480f38b5c77c1be3396a2e51b3027f8",
     "grade": true,
     "grade_id": "cell-e9afedfec96ad392",
     "locked": false,
     "points": 5,
     "schema_version": 1,
     "solution": true
    }
   },
   "source": [
    "YOUR ANSWER HERE"
   ]
  },
  {
   "cell_type": "markdown",
   "metadata": {
    "deletable": false,
    "nbgrader": {
     "checksum": "9614fc5d30e1de7218196e6f03df879b",
     "grade": true,
     "grade_id": "cell-c67c16670fbc7897",
     "locked": false,
     "points": 5,
     "schema_version": 1,
     "solution": true
    }
   },
   "source": [
    "### (3d) Let's look data between the year 1980 and 1999.\n",
    "#### 1) What is the average number of crashes per month between 1980 and 1999?    \n",
    "#### 2) What is the variance of monthly crashes during the period (1980~1999)?\n",
    "#### 3) what is the average annual crashes during the period (1980~1999)? "
   ]
  },
  {
   "cell_type": "code",
   "execution_count": 36,
   "metadata": {},
   "outputs": [
    {
     "name": "stdout",
     "output_type": "stream",
     "text": [
      "6.2594142259414225\n",
      "6.7223374705530725\n",
      "74.8\n"
     ]
    }
   ],
   "source": [
    "# your code here\n",
    "crashes_1980_to_1999 = plane_data[(1980 <= plane_data.Y) & (plane_data.Y <= 1999)]\n",
    "monthly_80_to_99 = crashes_1980_to_1999.groupby([\"Y\", \"M\"]).count()\n",
    "print(monthly_80_to_99.D.mean())\n",
    "print(monthly_80_to_99.D.var())\n",
    "print(monthly_80_to_99.groupby(\"Y\").sum().D.mean())"
   ]
  },
  {
   "cell_type": "markdown",
   "metadata": {
    "deletable": false,
    "nbgrader": {
     "checksum": "b7848aef4a37a53046bdaf1fe408d073",
     "grade": true,
     "grade_id": "cell-70c3f2b789f37af9",
     "locked": false,
     "points": 5,
     "schema_version": 1,
     "solution": true
    }
   },
   "source": [
    "### (3e)\n",
    "#### 1) Using the answer above, model the probability distribution and numerically calculate the expected value for the number of crashes during the year 2000. \n",
    "#### 2) Compare the answer with the real data.\n",
    "#### 3) Compare the answer with the property of the pdf related to its parameter.\n",
    "*Hint: Use the `math` library for exponential and factorial functions*  \n",
    "*Hint: Feel free to use `numpy` library*     \n",
    "*Hint: You may need to cut off when summing for all k values when calculating the expected value.*"
   ]
  },
  {
   "cell_type": "code",
   "execution_count": 43,
   "metadata": {},
   "outputs": [
    {
     "name": "stdout",
     "output_type": "stream",
     "text": [
      "78.0\n",
      "77\n"
     ]
    }
   ],
   "source": [
    "# I guess this looks like a Poisson process with rate about 6.5 crashes per month.  \n",
    "# If that's true then in any given year the rate should be about \n",
    "print(6.5*12)\n",
    "# crashes per year.\n",
    "# The actual number of crashes in 2000 was \n",
    "print(len(plane_data[plane_data.Y == 2000]))"
   ]
  },
  {
   "cell_type": "code",
   "execution_count": 53,
   "metadata": {},
   "outputs": [
    {
     "data": {
      "text/plain": [
       "6.416666666666667"
      ]
     },
     "execution_count": 53,
     "metadata": {},
     "output_type": "execute_result"
    }
   ],
   "source": [
    "# For part 3, I guess they're suggesting that we compute the expected value of the number of crashes on a random \n",
    "# month?  If so, then we want to find the number of crashes in each month of 2000.  \n",
    "crash_2000 = plane_data[plane_data.Y==2000]\n",
    "crash_2000 = crash_2000.groupby(\"M\").count().D\n",
    "crash_2000.mean()\n",
    "# and this does seem close to the parameter 6.5"
   ]
  },
  {
   "cell_type": "markdown",
   "metadata": {},
   "source": [
    "### (3f) Plot the PDF and CDF"
   ]
  },
  {
   "cell_type": "code",
   "execution_count": 55,
   "metadata": {},
   "outputs": [
    {
     "data": {
      "text/plain": [
       "[<matplotlib.lines.Line2D at 0x7fc9bd8a80d0>]"
      ]
     },
     "execution_count": 55,
     "metadata": {},
     "output_type": "execute_result"
    },
    {
     "data": {
      "image/png": "[encoded data removed]",
      "text/plain": [
       "<Figure size 432x288 with 1 Axes>"
      ]
     },
     "metadata": {
      "needs_background": "light"
     },
     "output_type": "display_data"
    }
   ],
   "source": [
    "# your code here\n",
    "# We take the parameter l = 6.5 crashes per month.\n",
    "l = 6.5\n",
    "# And then find the probability of months with 0 crashes, 1 crash, 2 crashes, ...\n",
    "xs = np.arange(1,13)\n",
    "ys = l**xs * np.exp(-l) / np.array([math.factorial(x) for x in xs])\n",
    "plt.plot(xs, ys)\n",
    "for i in range(1,len(ys)):\n",
    "    ys[i] = ys[i-1]+ys[i]\n",
    "plt.plot(xs,ys,color='r')"
   ]
  },
  {
   "cell_type": "markdown",
   "metadata": {},
   "source": [
    "### (3g) Make a Q-Q plot"
   ]
  },
  {
   "cell_type": "code",
   "execution_count": 61,
   "metadata": {},
   "outputs": [],
   "source": [
    "# your code here\n",
    "poisson = scipy.stats.poisson(l)\n",
    "ys = [poisson.ppf(q*.1) for q in range(1,11)]\n",
    "xs = [np.percentile(crash_2000, q*10) for q in range(1,11)]"
   ]
  },
  {
   "cell_type": "code",
   "execution_count": 63,
   "metadata": {},
   "outputs": [
    {
     "data": {
      "text/plain": [
       "[<matplotlib.lines.Line2D at 0x7fc9bd90c2b0>]"
      ]
     },
     "execution_count": 63,
     "metadata": {},
     "output_type": "execute_result"
    },
    {
     "data": {
      "image/png": "[encoded data removed]",
      "text/plain": [
       "<Figure size 432x288 with 1 Axes>"
      ]
     },
     "metadata": {
      "needs_background": "light"
     },
     "output_type": "display_data"
    }
   ],
   "source": [
    "plt.scatter(xs,ys)\n",
    "plt.plot(xs,xs,color='r')"
   ]
  },
  {
   "cell_type": "code",
   "execution_count": null,
   "metadata": {},
   "outputs": [],
   "source": []
  }
 ],
 "metadata": {
  "kernelspec": {
   "display_name": "Python 3",
   "language": "python",
   "name": "python3"
  },
  "language_info": {
   "codemirror_mode": {
    "name": "ipython",
    "version": 3
   },
   "file_extension": ".py",
   "mimetype": "text/x-python",
   "name": "python",
   "nbconvert_exporter": "python",
   "pygments_lexer": "ipython3",
   "version": "3.8.5"
  }
 },
 "nbformat": 4,
 "nbformat_minor": 2
}
