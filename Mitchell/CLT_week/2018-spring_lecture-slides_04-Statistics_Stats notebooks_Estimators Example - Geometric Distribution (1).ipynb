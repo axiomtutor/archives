{
 "cells": [
  {
   "cell_type": "markdown",
   "metadata": {},
   "source": [
    "<figure>\n",
    "  <IMG SRC=\"https://www.colorado.edu/cs/profiles/express/themes/cuspirit/logo.png\" WIDTH=50 ALIGN=\"right\">\n",
    "</figure>\n",
    "# Unbiased Estimators\n",
    "*CSCI 3022 - Dirk Grunwald*"
   ]
  },
  {
   "cell_type": "code",
   "execution_count": 1,
   "metadata": {},
   "outputs": [],
   "source": [
    "%matplotlib inline\n",
    "import numpy as np\n",
    "import scipy as sp\n",
    "import pandas as pd\n",
    "import matplotlib.pyplot as plt\n",
    "from scipy.stats import poisson"
   ]
  },
  {
   "cell_type": "markdown",
   "metadata": {
    "slideshow": {
     "slide_type": "slide"
    }
   },
   "source": [
    "## Estimators"
   ]
  },
  {
   "cell_type": "markdown",
   "metadata": {},
   "source": [
    "When we observe data that we believe follows a \"true distribution\", we want to estimate the parameters of the true distribution."
   ]
  },
  {
   "cell_type": "markdown",
   "metadata": {
    "slideshow": {
     "slide_type": "slide"
    }
   },
   "source": [
    "\n",
    "For example, suppose we observe the number of cars passing though an intersection every hour. Let's assume that the number of cars is actually modeled by a Poisson distribution (it usually is). Our collected data might then look like this (I'm drawing a random parameter here and then generating a Poisson. Pretend this is real data)."
   ]
  },
  {
   "cell_type": "code",
   "execution_count": 24,
   "metadata": {
    "slideshow": {
     "slide_type": "-"
    }
   },
   "outputs": [
    {
     "data": {
      "image/png": "[encoded data removed]",
      "text/plain": [
       "<matplotlib.figure.Figure at 0x1a12433a20>"
      ]
     },
     "metadata": {},
     "output_type": "display_data"
    }
   ],
   "source": [
    "lamb = np.log(np.random.uniform(8,10))\n",
    "cars = pd.Series( poisson(lamb).rvs(100))\n",
    "cars.hist(bins=20)\n",
    "plt.xlabel('Number of cars per hour')\n",
    "plt.ylabel('Number hours this happened');"
   ]
  },
  {
   "cell_type": "markdown",
   "metadata": {
    "slideshow": {
     "slide_type": "slide"
    }
   },
   "source": [
    "How do we recover the *parameter of interest* (lambda) that generated this data? There are a couple of different methods we could use, but the basic process is producing an *estimate* of the parameter.\n",
    "\n",
    "**Estimate:** An estimate is a value *t* that only depends on the dataset $x_1, x_2, \\ldots, x_n$. *i.e.* t is some function of the dataset only $$ t = g(x_1, x_2, \\ldots, x_n) $$\n",
    "\n",
    "In other words, we want to recover the parameter $\\lambda$ solely from the data $x_1, x_2, \\ldots, x_n$."
   ]
  },
  {
   "cell_type": "markdown",
   "metadata": {
    "slideshow": {
     "slide_type": "slide"
    }
   },
   "source": [
    "For the Poisson distribution, there are a couple of methods. Recall that\n",
    "\n",
    "$$\n",
    "Poi(\\lambda,k) = \\frac{e^{-\\lambda} * \\lambda^k}{k!}\n",
    "$$\n",
    "\n",
    "Then $Poi(\\lambda,0) = e^{-\\lambda}$. In other words, we could use the number of samples in column '0' above to estimate $\\lambda$."
   ]
  },
  {
   "cell_type": "markdown",
   "metadata": {},
   "source": [
    "Alternatively, $E[X_n] = \\lambda$ if the data comes from the Poisson distribution - and this can be used to estimate $\\lambda$ directly. In fact, the variance of the Poisson is also $\\lambda$. Which should be used? The probability of zero? The mean? The variance? Would all the estimates be the same?"
   ]
  },
  {
   "cell_type": "markdown",
   "metadata": {
    "slideshow": {
     "slide_type": "slide"
    }
   },
   "source": [
    "**Estimator:** Let $t = h(x_1, x_2, \\ldots, x_n)$ be an estimate based on the dataset $x_1, x_2, \\ldots, x_n$. Then $t$ is a realization of the random variable $$ T = h(X_1, X_2, \\ldots, X_n ).$$ The random variable $T$ is called an *estimator*."
   ]
  },
  {
   "cell_type": "markdown",
   "metadata": {},
   "source": [
    "Is one estimator better than another? Does there exist a best possible estimate?"
   ]
  },
  {
   "cell_type": "markdown",
   "metadata": {
    "slideshow": {
     "slide_type": "slide"
    }
   },
   "source": [
    "**Unbiased Estimator:** A estimator $T$ is called *unbiased* for the parameter $\\theta$ if $$E[T] = \\theta$$ irrespective of the value of $\\theta$. The difference of $E[T] - \\theta$ is called the *bias* of $T$; if this difference is non-zero, the estimator is is *biased*."
   ]
  },
  {
   "cell_type": "markdown",
   "metadata": {},
   "source": [
    "Is one estimator better than another? Does there exist a best possible estimate?"
   ]
  },
  {
   "cell_type": "markdown",
   "metadata": {
    "slideshow": {
     "slide_type": "slide"
    }
   },
   "source": [
    "## Estimating Parameters of the Poisson Distribution"
   ]
  },
  {
   "cell_type": "markdown",
   "metadata": {},
   "source": [
    "The Poisson distribution is a discrete distribution that can model many real world  phenomena, such as the number of cars likely to pass through an intersection per hour or the number of raisans in a slice of raisan bread."
   ]
  },
  {
   "cell_type": "markdown",
   "metadata": {
    "slideshow": {
     "slide_type": "slide"
    }
   },
   "source": [
    "The definition of the Poisson distribution with parameter $\\lambda$ and value $k$ is\n",
    "$$\n",
    "Poi(\\lambda,k) = \\frac{e^{-\\lambda} * \\lambda^k}{k!}\n",
    "$$\n",
    "Given a random sample that we believe is Poisson distributed, we would like to *estimate* the parameter $\\lambda$."
   ]
  },
  {
   "cell_type": "code",
   "execution_count": 3,
   "metadata": {},
   "outputs": [
    {
     "name": "stdout",
     "output_type": "stream",
     "text": [
      "Our lambda is 2.30258509299\n"
     ]
    }
   ],
   "source": [
    "lam=np.log(10)\n",
    "print('Our lambda is', lam)\n",
    "poi = poisson(lam)"
   ]
  },
  {
   "cell_type": "code",
   "execution_count": 4,
   "metadata": {
    "slideshow": {
     "slide_type": "slide"
    }
   },
   "outputs": [],
   "source": [
    "pois = poi.rvs(30)"
   ]
  },
  {
   "cell_type": "code",
   "execution_count": 5,
   "metadata": {},
   "outputs": [
    {
     "data": {
      "image/png": "[encoded data removed]",
      "text/plain": [
       "<matplotlib.figure.Figure at 0x1047c3470>"
      ]
     },
     "metadata": {},
     "output_type": "display_data"
    }
   ],
   "source": [
    "plt.hist(pois, bins=20);"
   ]
  },
  {
   "cell_type": "markdown",
   "metadata": {
    "slideshow": {
     "slide_type": "slide"
    }
   },
   "source": [
    "## Estimating $\\lambda$ using $S = \\frac{\\textrm{Number of $X_i$ equal to zero}}{n}$"
   ]
  },
  {
   "cell_type": "markdown",
   "metadata": {},
   "source": [
    "The definition of the Poisson distribution with parameter $\\lambda$ and value $k$ is\n",
    "$$\n",
    "Poi(\\lambda,k) = \\frac{e^{-\\lambda} * \\lambda^k}{k!}\n",
    "$$\n",
    "For $k=0$, this reduces to\n",
    "$$\n",
    "Poi(\\lambda, k=0) = e^{-\\lambda}\n",
    "$$"
   ]
  },
  {
   "cell_type": "code",
   "execution_count": 6,
   "metadata": {
    "slideshow": {
     "slide_type": "slide"
    }
   },
   "outputs": [
    {
     "name": "stdout",
     "output_type": "stream",
     "text": [
      "The probability of p_0 is  0.1\n"
     ]
    }
   ],
   "source": [
    "print('The probability of p_0 is ', np.exp(-lam))"
   ]
  },
  {
   "cell_type": "code",
   "execution_count": 7,
   "metadata": {},
   "outputs": [
    {
     "name": "stdout",
     "output_type": "stream",
     "text": [
      "estimate of p_0 is 0.1\n"
     ]
    }
   ],
   "source": [
    "s = len(pois[pois == 0])/len(pois)\n",
    "print('estimate of p_0 is', s)"
   ]
  },
  {
   "cell_type": "markdown",
   "metadata": {
    "slideshow": {
     "slide_type": "slide"
    }
   },
   "source": [
    "$$\n",
    "ln(s) = ln(e^{-\\lambda})\\\\\n",
    "ln(s) = -\\lambda\n",
    "$$"
   ]
  },
  {
   "cell_type": "code",
   "execution_count": 8,
   "metadata": {},
   "outputs": [
    {
     "name": "stdout",
     "output_type": "stream",
     "text": [
      "We estimate lambda to be 2.30258509299\n"
     ]
    }
   ],
   "source": [
    "lam_est = -np.log(s)\n",
    "print('We estimate lambda to be', lam_est)"
   ]
  },
  {
   "cell_type": "markdown",
   "metadata": {
    "slideshow": {
     "slide_type": "slide"
    }
   },
   "source": [
    "Now, repeat the single measurement above 500 times."
   ]
  },
  {
   "cell_type": "code",
   "execution_count": 9,
   "metadata": {},
   "outputs": [],
   "source": [
    "pest1 = np.array([ (len(p[p == 0])/len(p)) for p in [ poi.rvs(30) for junk in range(500)]])"
   ]
  },
  {
   "cell_type": "code",
   "execution_count": 10,
   "metadata": {},
   "outputs": [
    {
     "data": {
      "image/png": "[encoded data removed]",
      "text/plain": [
       "<matplotlib.figure.Figure at 0x1a11e43ba8>"
      ]
     },
     "metadata": {},
     "output_type": "display_data"
    }
   ],
   "source": [
    "plt.hist(pest1, bins=20);\n",
    "plt.axvline(np.exp(-lam),color='red',lw=5);\n"
   ]
  },
  {
   "cell_type": "markdown",
   "metadata": {
    "slideshow": {
     "slide_type": "slide"
    }
   },
   "source": [
    "Our estimate using repeated observations would be"
   ]
  },
  {
   "cell_type": "code",
   "execution_count": 11,
   "metadata": {},
   "outputs": [
    {
     "data": {
      "text/plain": [
       "2.3119622548066427"
      ]
     },
     "execution_count": 11,
     "metadata": {},
     "output_type": "execute_result"
    }
   ],
   "source": [
    "-np.log(np.mean(pest1))"
   ]
  },
  {
   "cell_type": "code",
   "execution_count": 21,
   "metadata": {},
   "outputs": [
    {
     "data": {
      "text/plain": [
       "2.3025850929940459"
      ]
     },
     "execution_count": 21,
     "metadata": {},
     "output_type": "execute_result"
    }
   ],
   "source": [
    "lam"
   ]
  },
  {
   "cell_type": "markdown",
   "metadata": {
    "slideshow": {
     "slide_type": "slide"
    }
   },
   "source": [
    "## Estimating $\\lambda$ using $T=e^{-X_n}$"
   ]
  },
  {
   "cell_type": "markdown",
   "metadata": {},
   "source": [
    "The second method depends on the observation that the mean of the Poisson distribution is $\\lambda$."
   ]
  },
  {
   "cell_type": "code",
   "execution_count": 13,
   "metadata": {},
   "outputs": [
    {
     "data": {
      "text/plain": [
       "2.5666666666666669"
      ]
     },
     "execution_count": 13,
     "metadata": {},
     "output_type": "execute_result"
    }
   ],
   "source": [
    "np.mean(pois)"
   ]
  },
  {
   "cell_type": "markdown",
   "metadata": {
    "slideshow": {
     "slide_type": "slide"
    }
   },
   "source": [
    "Now, let's repeat this process 500 times and see the distribution of estimates of the mean."
   ]
  },
  {
   "cell_type": "code",
   "execution_count": 14,
   "metadata": {},
   "outputs": [],
   "source": [
    "pestt = -np.array( [ np.mean(poi.rvs(30)) for junk in range(500) ] )"
   ]
  },
  {
   "cell_type": "markdown",
   "metadata": {
    "slideshow": {
     "slide_type": "slide"
    }
   },
   "source": [
    "In the below, the red line is \"true\" mean (based on the parameter we had set above) and the estimate mean (using our sampling)"
   ]
  },
  {
   "cell_type": "code",
   "execution_count": 19,
   "metadata": {},
   "outputs": [
    {
     "data": {
      "image/png": "[encoded data removed]",
      "text/plain": [
       "<matplotlib.figure.Figure at 0x1a0e92e518>"
      ]
     },
     "metadata": {},
     "output_type": "display_data"
    }
   ],
   "source": [
    "plt.hist(pestt)\n",
    "plt.text(-3.25,100,'Est. is' + str(np.mean(pestt)))\n",
    "plt.text(-3.5,90,'True lambda is' + str(-lam));"
   ]
  }
 ],
 "metadata": {
  "celltoolbar": "Slideshow",
  "kernelspec": {
   "display_name": "Python 3",
   "language": "python",
   "name": "python3"
  },
  "language_info": {
   "codemirror_mode": {
    "name": "ipython",
    "version": 3
   },
   "file_extension": ".py",
   "mimetype": "text/x-python",
   "name": "python",
   "nbconvert_exporter": "python",
   "pygments_lexer": "ipython3",
   "version": "3.8.8"
  }
 },
 "nbformat": 4,
 "nbformat_minor": 2
}
