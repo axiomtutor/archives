{
 "cells": [
  {
   "cell_type": "markdown",
   "metadata": {
    "slideshow": {
     "slide_type": "slide"
    }
   },
   "source": [
    "<figure>\n",
    "  <IMG SRC=\"https://www.colorado.edu/cs/profiles/express/themes/cuspirit/logo.png\" WIDTH=50 ALIGN=\"right\">\n",
    "</figure>\n",
    "# The Central Limit Theorem - Rounding Example\n",
    "*CSCI 3022 - Dirk Grunwald*"
   ]
  },
  {
   "cell_type": "code",
   "execution_count": 1,
   "metadata": {
    "slideshow": {
     "slide_type": "-"
    }
   },
   "outputs": [],
   "source": [
    "%matplotlib inline\n",
    "import numpy as np\n",
    "import scipy as sp\n",
    "import pandas as pd\n",
    "import matplotlib.pyplot as plt\n",
    "from scipy.stats import norm"
   ]
  },
  {
   "cell_type": "markdown",
   "metadata": {
    "slideshow": {
     "slide_type": "slide"
    }
   },
   "source": [
    "An accountant wants to simplify bookkeeping by rounding amounts to the nearest integer. We're going to use Chebyshev's inequality and the Central Limit Theorem to compute an upper bound on the probability that $P(\\mid X_1 + X_2 + \\ldots + X_{100} \\mid > 10)$, i.e. the probability of the cummulative rounding error exceeding \\$10. \n",
    "\n",
    "To study this, we model the rounding errors $ X_i $ by a uniform distribution U(-0.5,0.5). The expectation of $X_i$ is 0, and the variance is $\\frac{1}{12}(0.5-(-0.5))^2 = 1/12$ (we'll assume these are givens)."
   ]
  },
  {
   "cell_type": "markdown",
   "metadata": {
    "slideshow": {
     "slide_type": "slide"
    }
   },
   "source": [
    "## Using Chebyshev's Inequality"
   ]
  },
  {
   "cell_type": "markdown",
   "metadata": {},
   "source": [
    "We write $S_n = X_1 + X_2 + \\ldots + X_{100}$ and thus $ E[S_n] = E[X_1] + E[X_2] + \\ldots + E[X_{100}] = 0$. Because the $X_i$ are independent, then $Var(S_n) = Var(X_1) + Var(X_2) + \\ldots + Var(X_{100}) = Var(X_i) * 100 = \\frac{1}{12} * 100 = 100/12$. \n",
    "\n",
    "We then find from Chebyshev's inequality that:\n",
    "\n",
    "$$\n",
    "P(|S| > 10) = P(|S - 0| > 10) \\leq \\frac{Var(S)}{10^2} = \\frac{100/12}{100} = \\frac{1}{12}\n",
    "$$"
   ]
  },
  {
   "cell_type": "markdown",
   "metadata": {
    "slideshow": {
     "slide_type": "slide"
    }
   },
   "source": [
    "## Using Central Limit Theorem"
   ]
  },
  {
   "cell_type": "markdown",
   "metadata": {},
   "source": [
    "$$\n",
    "\\begin{aligned}\n",
    "P(|S| > 10) =& P(X_1 + X_2 + \\ldots + X_{100} < -10)\\\\ &+ P(X_1 + X_2 + \\ldots + X_{100} > 10)\n",
    "\\end{aligned}\n",
    "$$\n",
    "\n",
    "Now, compute a *standard normal*\n",
    "\n",
    "$$\n",
    "Z_n = \\frac{X_1 + X_2 + \\ldots + X_{100} - n \\mu}{\\sigma \\sqrt{n}} \\\\\n",
    "$$"
   ]
  },
  {
   "cell_type": "markdown",
   "metadata": {
    "slideshow": {
     "slide_type": "slide"
    }
   },
   "source": [
    "We do this step by step.\n",
    "$$\n",
    "\\begin{aligned}\n",
    "P(S_n > 10) &= P(X_1 + \\ldots + X_{100} - n\\mu> 10 - n\\mu) \\\\[2ex]\n",
    "&= P(\\frac{X_1 + \\ldots + X_{100} - n\\mu}{\\sigma\\sqrt{n}} > \\frac{10-n\\mu}{\\sigma\\sqrt{n}}) \\\\[2ex]\n",
    "&= P(Z_n > \\frac{10-n\\mu}{\\sigma\\sqrt{n}})\n",
    "\\end{aligned}\n",
    "$$"
   ]
  },
  {
   "cell_type": "markdown",
   "metadata": {
    "slideshow": {
     "slide_type": "slide"
    }
   },
   "source": [
    "The $X_i \\sim U(-0.5, 0.5)$ so $\\mu = 0$ and $\\sigma^2 = Var(X_i) = 1/12$.\n",
    "\n",
    "Plugging these in..\n",
    "\n",
    "$$\n",
    "P(Z_n > \\frac{10-n\\mu}{\\sigma\\sqrt{n}}) = P(Z_{100} > \\frac{10-100*0}{\\sqrt{1/12} \\sqrt{n}}) = P(Z_{100} > 3.46)\n",
    "$$\n",
    "\n",
    "We then use the standard normal distribution to determine $P(Z_{100} > 3.46)$. The CDF of the normal with parameter 3.46 is $P(Z \\leq 3.46)$."
   ]
  },
  {
   "cell_type": "code",
   "execution_count": 2,
   "metadata": {},
   "outputs": [
    {
     "data": {
      "text/plain": [
       "0.99972991230603647"
      ]
     },
     "execution_count": 2,
     "metadata": {},
     "output_type": "execute_result"
    }
   ],
   "source": [
    "norm.cdf(3.46)"
   ]
  },
  {
   "cell_type": "markdown",
   "metadata": {
    "slideshow": {
     "slide_type": "slide"
    }
   },
   "source": [
    "And thus, $P(Z_{100} > 3.46) = 1-norm.cdf(3.46)$"
   ]
  },
  {
   "cell_type": "code",
   "execution_count": 3,
   "metadata": {},
   "outputs": [
    {
     "data": {
      "text/plain": [
       "0.00027008769396352772"
      ]
     },
     "execution_count": 3,
     "metadata": {},
     "output_type": "execute_result"
    }
   ],
   "source": [
    "1-norm.cdf(3.46)"
   ]
  },
  {
   "cell_type": "markdown",
   "metadata": {
    "slideshow": {
     "slide_type": "slide"
    }
   },
   "source": [
    "We've only calculated $P(S_n > 10)$ and we also need $P(S_n < -10)$, but we can use symmetry to calculate $P(|S_n| > 10)$."
   ]
  },
  {
   "cell_type": "code",
   "execution_count": 4,
   "metadata": {},
   "outputs": [
    {
     "data": {
      "text/plain": [
       "0.00054017538792705544"
      ]
     },
     "execution_count": 4,
     "metadata": {},
     "output_type": "execute_result"
    }
   ],
   "source": [
    "2*(1-norm.cdf(3.46))"
   ]
  },
  {
   "cell_type": "markdown",
   "metadata": {},
   "source": [
    "That means that using the CLT, the estimate of $P(\\mid S_N \\mid > 10)$ changes from 8.3% by the Chebyshev inequality to 0.05%, a 166x difference."
   ]
  },
  {
   "cell_type": "markdown",
   "metadata": {
    "slideshow": {
     "slide_type": "slide"
    }
   },
   "source": [
    "Let's look at this graphically."
   ]
  },
  {
   "cell_type": "code",
   "execution_count": 5,
   "metadata": {
    "hide_input": true,
    "slideshow": {
     "slide_type": "-"
    }
   },
   "outputs": [
    {
     "data": {
      "image/png": "[encoded data removed]",
      "text/plain": [
       "<matplotlib.figure.Figure at 0x10c2315c0>"
      ]
     },
     "metadata": {},
     "output_type": "display_data"
    }
   ],
   "source": [
    "xp = np.linspace(norm.ppf(0.00001),norm.ppf(0.99999), 100)\n",
    "plt.ylim((0,0.04))\n",
    "plt.plot(xp, norm.pdf(xp),'r-', lw=1, alpha=0.6, label='norm pdf')\n",
    "#\n",
    "# Plot the Chebyshev region - total probabilty is 1/12, probably on\n",
    "# each tail is thus 1/24. \n",
    "#\n",
    "chebyHalf = (1/12)/2\n",
    "x2 = np.linspace(norm.ppf(0.00001),norm.ppf(chebyHalf), 100)\n",
    "plt.fill_between(x2, min(norm.pdf(x2)), norm.pdf(x2),facecolor='gray', alpha=0.6)\n",
    "x2 = np.linspace(norm.ppf(1-chebyHalf), norm.ppf(0.99999), 100)\n",
    "plt.fill_between(x2, min(norm.pdf(x2)), norm.pdf(x2),facecolor='gray', alpha=0.6)\n",
    "#\n",
    "# Plot the CLT region\n",
    "#\n",
    "x2 = np.linspace(norm.ppf(0.00001),-3.46, 100)\n",
    "plt.fill_between(x2, min(norm.pdf(x2)), norm.pdf(x2),facecolor='blue', alpha=0.6)\n",
    "x2 = np.linspace(3.46, norm.ppf(0.99999), 100)\n",
    "plt.fill_between(x2, min(norm.pdf(x2)), norm.pdf(x2),facecolor='blue', alpha=0.6)\n",
    "#\n",
    "plt.text(-1.5,0.02,\"Blue=P(|Sn| >10)\\nCLT\")\n",
    "plt.text(-1.5,0.01,\"Gray=P(|Sn| >10)\\nChebyshev\")\n",
    "plt.show()"
   ]
  },
  {
   "cell_type": "markdown",
   "metadata": {
    "slideshow": {
     "slide_type": "slide"
    }
   },
   "source": [
    "## Verifying this using simulation"
   ]
  },
  {
   "cell_type": "markdown",
   "metadata": {},
   "source": [
    "Let's check this using simulation - we'll draw 10,000 samples of 100 U(-0.5,0.5) uniform random variables summed. We'll then count the ones with an absolute value greater than 10.\n",
    "\n",
    "First, we create a uniform R.V. beween -0.5 and -0.5+1..."
   ]
  },
  {
   "cell_type": "code",
   "execution_count": 6,
   "metadata": {
    "slideshow": {
     "slide_type": "-"
    }
   },
   "outputs": [],
   "source": [
    "unif_half = sp.stats.uniform(-0.5, 1)"
   ]
  },
  {
   "cell_type": "markdown",
   "metadata": {
    "slideshow": {
     "slide_type": "slide"
    }
   },
   "source": [
    "Then, we draw 100 samples, sum them up, do that 10,000 times and take the absolute value of the sums."
   ]
  },
  {
   "cell_type": "code",
   "execution_count": 12,
   "metadata": {},
   "outputs": [],
   "source": [
    "Sums = np.abs( np.array( [ np.sum( unif_half.rvs(100)) for x in range(10000) ] ) )"
   ]
  },
  {
   "cell_type": "markdown",
   "metadata": {
    "slideshow": {
     "slide_type": "slide"
    }
   },
   "source": [
    "The histogram shows that most of the samples are near zero, with a few outliers."
   ]
  },
  {
   "cell_type": "code",
   "execution_count": 8,
   "metadata": {},
   "outputs": [
    {
     "data": {
      "image/png": "[encoded data removed]",
      "text/plain": [
       "<matplotlib.figure.Figure at 0x107a762e8>"
      ]
     },
     "metadata": {},
     "output_type": "display_data"
    }
   ],
   "source": [
    "plt.hist(Sums);"
   ]
  },
  {
   "cell_type": "markdown",
   "metadata": {
    "slideshow": {
     "slide_type": "slide"
    }
   },
   "source": [
    "The percentage of samples greater than 10 is close to our bound, but will change from sample to sample.  "
   ]
  },
  {
   "cell_type": "code",
   "execution_count": 13,
   "metadata": {},
   "outputs": [
    {
     "data": {
      "text/plain": [
       "0.0004"
      ]
     },
     "execution_count": 13,
     "metadata": {},
     "output_type": "execute_result"
    }
   ],
   "source": [
    "len(Sums[Sums > 10]) / len(Sums)"
   ]
  },
  {
   "cell_type": "code",
   "execution_count": null,
   "metadata": {},
   "outputs": [],
   "source": []
  }
 ],
 "metadata": {
  "celltoolbar": "Slideshow",
  "kernelspec": {
   "display_name": "Python 3",
   "language": "python",
   "name": "python3"
  },
  "language_info": {
   "codemirror_mode": {
    "name": "ipython",
    "version": 3
   },
   "file_extension": ".py",
   "mimetype": "text/x-python",
   "name": "python",
   "nbconvert_exporter": "python",
   "pygments_lexer": "ipython3",
   "version": "3.8.6"
  }
 },
 "nbformat": 4,
 "nbformat_minor": 4
}
