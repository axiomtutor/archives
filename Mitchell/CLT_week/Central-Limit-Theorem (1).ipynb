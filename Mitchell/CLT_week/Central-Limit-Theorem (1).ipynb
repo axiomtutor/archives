{
 "cells": [
  {
   "cell_type": "markdown",
   "metadata": {
    "slideshow": {
     "slide_type": "slide"
    }
   },
   "source": [
    "<figure>\n",
    "  <IMG SRC=\"https://www.colorado.edu/cs/profiles/express/themes/cuspirit/logo.png\" WIDTH=50 ALIGN=\"right\">\n",
    "</figure>\n",
    "# The Central Limit Theorem\n",
    "*CSCI 3022 - Dirk Grunwald*"
   ]
  },
  {
   "cell_type": "markdown",
   "metadata": {
    "slideshow": {
     "slide_type": "slide"
    }
   },
   "source": [
    "The Central Limit Theorem (CLT) is one of the more well known theorems of statistics. The CLT basically implies that many quantities will tend to have a normal distribution in practice. This is particularly true for _measurement error_ or the variance that arises during measurement.\n",
    "\n",
    "Because quanities like measurement error follow a normal distribution, we can use the CLT to determine the uncertainty in our measured data and, conversely, how many measurements are needed to achieve a particular certainty."
   ]
  },
  {
   "cell_type": "markdown",
   "metadata": {
    "slideshow": {
     "slide_type": "subslide"
    }
   },
   "source": [
    "First, some preliminaries"
   ]
  },
  {
   "cell_type": "code",
   "execution_count": 1,
   "metadata": {
    "collapsed": true,
    "jupyter": {
     "outputs_hidden": true
    },
    "slideshow": {
     "slide_type": "subslide"
    }
   },
   "outputs": [],
   "source": [
    "%matplotlib inline\n",
    "import numpy as np\n",
    "import scipy as sp\n",
    "import pandas as pd\n",
    "import matplotlib.pyplot as plt\n",
    "from scipy.stats import norm"
   ]
  },
  {
   "cell_type": "markdown",
   "metadata": {
    "slideshow": {
     "slide_type": "slide"
    }
   },
   "source": [
    "Let's briefly review the Weak Law of Large Numbers, mainly to the recall the notation for the likelihood of samples to be a certain distance from the mean.\n",
    "\n",
    "## Reviewing The Weak Law\n",
    "Assume we have some event $X$ that occurs with probability $p$. We conduct a series of $n$ independent measurements $S_n$ of the occurance of an event. Our estimate for $p$ is $\\frac{S_n}{n}$. "
   ]
  },
  {
   "cell_type": "markdown",
   "metadata": {
    "slideshow": {
     "slide_type": "slide"
    }
   },
   "source": [
    "The weak law states:\n",
    "\n",
    "$$P\\left[ | \\frac{S_n}{n} -p | \\geq \\delta \\right] \\leq \\frac{p(1-p)}{n \\delta^2} $$\n",
    "\n",
    "Lets's remind ourselves of how to read this \"The probability of our estimate being more than $\\delta$ from the true probabilty $p$ is less then or equal to $\\frac{p(1-p)}{n \\delta^2}$\".\n",
    "\n",
    "Since we can vary $n$, we can make the right hand side arbitrarily small. Likewise, given a fixed number of measurements ($n$), we can determine $\\delta$, the uncertainity in the estimate."
   ]
  },
  {
   "cell_type": "markdown",
   "metadata": {
    "hide_input": false,
    "slideshow": {
     "slide_type": "slide"
    }
   },
   "source": [
    "# The Standard Normal PDF\n",
    "\n",
    "We're used to seeing the Normal distribution PDF, or the familar\"bell curve\" shape shown below."
   ]
  },
  {
   "cell_type": "code",
   "execution_count": 2,
   "metadata": {
    "hide_input": false
   },
   "outputs": [
    {
     "data": {
      "image/png": "[encoded data removed]",
      "text/plain": [
       "<matplotlib.figure.Figure at 0x19095d4a58>"
      ]
     },
     "metadata": {},
     "output_type": "display_data"
    }
   ],
   "source": [
    "xp = np.linspace(norm.ppf(0.01),norm.ppf(0.99), 100)\n",
    "plt.plot(xp, norm.pdf(xp),'r-', lw=5, alpha=0.6, label='norm pdf')\n",
    "plt.show()"
   ]
  },
  {
   "cell_type": "markdown",
   "metadata": {
    "slideshow": {
     "slide_type": "slide"
    }
   },
   "source": [
    "In the CLT, we will be using the cummulative probability less than or equal to a given location, $x$. For example, the shaded area in the following diagram is the cummulative probability of for $ \\leq x $."
   ]
  },
  {
   "cell_type": "code",
   "execution_count": 3,
   "metadata": {
    "collapsed": true,
    "jupyter": {
     "outputs_hidden": true
    }
   },
   "outputs": [],
   "source": [
    "x = 1.0"
   ]
  },
  {
   "cell_type": "code",
   "execution_count": 4,
   "metadata": {
    "hide_input": true,
    "slideshow": {
     "slide_type": "-"
    }
   },
   "outputs": [
    {
     "data": {
      "image/png": "[encoded data removed]",
      "text/plain": [
       "<matplotlib.figure.Figure at 0x1a0e773080>"
      ]
     },
     "metadata": {},
     "output_type": "display_data"
    }
   ],
   "source": [
    "xp = np.linspace(norm.ppf(0.01),norm.ppf(0.99), 100)\n",
    "plt.plot(xp, norm.pdf(xp),'r-', lw=5, alpha=0.6, label='norm pdf')\n",
    "x2 = np.linspace(norm.ppf(0.01),1.0, 100)\n",
    "plt.fill_between(x2, min(norm.pdf(x2)), norm.pdf(x2),facecolor='blue', alpha=0.6)\n",
    "plt.show()"
   ]
  },
  {
   "cell_type": "markdown",
   "metadata": {
    "slideshow": {
     "slide_type": "slide"
    }
   },
   "source": [
    "# The Normal CDF\n",
    "The CLT will make use of the CDF or commulative distribution function for the normal and, in particular, the CDF of the _standard normal_, which has $\\mu=0, \\sigma=1$. In most texts, this will be denoted $\\phi(x)$.\n",
    "\n",
    "For example, the following shows the CDF and shows $\\phi$(x), the value the probability $\\leq x$. "
   ]
  },
  {
   "cell_type": "code",
   "execution_count": 5,
   "metadata": {
    "hide_input": true,
    "slideshow": {
     "slide_type": "slide"
    }
   },
   "outputs": [
    {
     "data": {
      "image/png": "[encoded data removed]",
      "text/plain": [
       "<matplotlib.figure.Figure at 0x1a11afbda0>"
      ]
     },
     "metadata": {},
     "output_type": "display_data"
    }
   ],
   "source": [
    "xp = np.linspace(norm.ppf(0.01),norm.ppf(0.99), 100)\n",
    "plt.plot(xp, norm.cdf(xp),'r-', lw=5, alpha=0.6, label='norm CDF')\n",
    "plt.axvline(x=1)\n",
    "plt.axhline(y=norm.cdf(x))\n",
    "plt.annotate(norm.cdf(x), xy=(x, norm.cdf(x)), xytext=(-1.5, 0.5),\n",
    "            arrowprops=dict(facecolor='black', shrink=0.05),\n",
    "            )\n",
    "plt.show()"
   ]
  },
  {
   "cell_type": "markdown",
   "metadata": {
    "slideshow": {
     "slide_type": "slide"
    }
   },
   "source": [
    "If we want to compute the probability of values between $x$ and $y$, we would compute $\\phi(y) - \\phi(x)$ where $y \\geq x$. For example,"
   ]
  },
  {
   "cell_type": "code",
   "execution_count": 6,
   "metadata": {
    "collapsed": true,
    "jupyter": {
     "outputs_hidden": true
    }
   },
   "outputs": [],
   "source": [
    "y = 1.5"
   ]
  },
  {
   "cell_type": "code",
   "execution_count": 7,
   "metadata": {
    "hide_input": true,
    "slideshow": {
     "slide_type": "slide"
    }
   },
   "outputs": [
    {
     "data": {
      "image/png": "[encoded data removed]",
      "text/plain": [
       "<matplotlib.figure.Figure at 0x1a11c21518>"
      ]
     },
     "metadata": {},
     "output_type": "display_data"
    }
   ],
   "source": [
    "xp = np.linspace(norm.ppf(0.01),norm.ppf(0.99), 100)\n",
    "plt.plot(xp, norm.cdf(xp),'r-', lw=5, alpha=0.6, label='norm CDF')\n",
    "plt.axvline(x=x), plt.axhline(y=norm.cdf(x))\n",
    "plt.axvline(x=y), plt.axhline(y=norm.cdf(y))\n",
    "plt.annotate(norm.cdf(x), xy=(x, norm.cdf(x)), xytext=(-1.5, 0.5),\n",
    "            arrowprops=dict(facecolor='black', shrink=0.05),\n",
    "            )\n",
    "plt.annotate(norm.cdf(y), xy=(y, norm.cdf(y)), xytext=(2.5, 0.5),\n",
    "            arrowprops=dict(facecolor='black', shrink=0.05),\n",
    "            )\n",
    "plt.show()"
   ]
  },
  {
   "cell_type": "markdown",
   "metadata": {},
   "source": [
    "The $\\phi(y) - \\phi(x)$ is about 9.2%"
   ]
  },
  {
   "cell_type": "code",
   "execution_count": 8,
   "metadata": {},
   "outputs": [
    {
     "name": "stdout",
     "output_type": "stream",
     "text": [
      "0.0918480526626\n"
     ]
    }
   ],
   "source": [
    "print( norm.cdf(y) - norm.cdf(x) )"
   ]
  },
  {
   "cell_type": "markdown",
   "metadata": {
    "hide_input": false,
    "slideshow": {
     "slide_type": "slide"
    }
   },
   "source": [
    "## And Finally, the Central Limit Theorem\n",
    "\n",
    "Suppose $X_1, X_2, \\ldots, X_n$ are $n$ identical, independent R.V.s with a mean $\\mu$ and variance $\\sigma^2$.\n",
    "\n",
    "Let $S_n = X_1 + X_2 + \\ldots + X_n$.\n",
    "\n",
    "Then, for each $x < y$, $$\\lim_{n \\rightarrow \\infty} P\\left[ x \\leq \\frac{S_n - n\\mu}{\\sigma \\sqrt n} \\leq y \\right] = \\phi(y) - \\phi(x)$$\n",
    "\n",
    "In other words, regardless of the underlying distribution of $X_i$, $S_n \\sim N(n\\mu, n\\sigma^2)$ for some sufficiently large $n$."
   ]
  },
  {
   "cell_type": "markdown",
   "metadata": {
    "slideshow": {
     "slide_type": "slide"
    }
   },
   "source": [
    "## What does this mean?\n",
    "\n",
    "If I take lots of samples from a single *e.g.* exponential distribution, they do _not_ approach the standard normal.\n",
    "\n",
    "But, if I take samples from the sum of _many_ R.V.'s, it does -- _e.g._ your height depends on your diet, local gravity, illness you experienced, etc. Thus, height is likely normally distributed as are \"errors in measurement\"\n",
    "\n",
    "## Can this really be true?\n",
    "Let's evaluate this experimentally. We're going to draw X1, a small number of samples from the uniform distribution. We'll plot that, and then draw another random sample X2. We'll then add X1 and X2 and plot that."
   ]
  },
  {
   "cell_type": "code",
   "execution_count": 36,
   "metadata": {
    "slideshow": {
     "slide_type": "slide"
    }
   },
   "outputs": [
    {
     "name": "stdout",
     "output_type": "stream",
     "text": [
      "X1 is [ 0.70025951  0.37218202  0.08640838  0.40378975] ...\n",
      "X1 + X2 is [ 1.34922501  0.86646911  0.20077948  0.40483999] ...\n"
     ]
    },
    {
     "data": {
      "image/png": "[encoded data removed]",
      "text/plain": [
       "<matplotlib.figure.Figure at 0x1a11f3dc50>"
      ]
     },
     "metadata": {},
     "output_type": "display_data"
    }
   ],
   "source": [
    "k = 50000\n",
    "X1 = np.random.uniform(size=k)\n",
    "X2 = np.random.uniform(size=k)\n",
    "print('X1 is', X1[1:5], '...')\n",
    "print('X1 + X2 is', (X1+X2)[1:5], '...')\n",
    "plt.subplot(1,2,1), plt.hist(X1), plt.title('X1')\n",
    "plt.subplot(1,2,2), plt.hist(X1+X2), plt.title('X1+X2')\n",
    "plt.show()"
   ]
  },
  {
   "cell_type": "markdown",
   "metadata": {
    "slideshow": {
     "slide_type": "subslide"
    }
   },
   "source": [
    "This doesn't look very compelling because we we are only adding two uniformly distributed variables. Let's increase the number of variables to _vars_ and use Python __comprehension__ notation to generate the $X_1 + X_2 + \\ldots + X_{vars}$ and plot that."
   ]
  },
  {
   "cell_type": "code",
   "execution_count": 42,
   "metadata": {},
   "outputs": [
    {
     "data": {
      "image/png": "[encoded data removed]",
      "text/plain": [
       "<matplotlib.figure.Figure at 0x1a11a589e8>"
      ]
     },
     "metadata": {},
     "output_type": "display_data"
    }
   ],
   "source": [
    "k, vars = 5000, 2000\n",
    "Sn = sum( [np.random.uniform(size=k) for x in range(vars)])\n",
    "plt.hist(Sn,bins=50), plt.title('Sn')\n",
    "plt.show()"
   ]
  },
  {
   "cell_type": "markdown",
   "metadata": {
    "slideshow": {
     "slide_type": "subslide"
    }
   },
   "source": [
    "What about other distributions? Let's try the exponential distribution. We'll see that it takes more variables $X_1, X_2, \\ldots$ to achieve a symmetrical shape for this highly skewed distribution, but it does approximate the normal with enough terms."
   ]
  },
  {
   "cell_type": "code",
   "execution_count": 49,
   "metadata": {},
   "outputs": [
    {
     "data": {
      "image/png": "[encoded data removed]",
      "text/plain": [
       "<matplotlib.figure.Figure at 0x1a11d3fd68>"
      ]
     },
     "metadata": {},
     "output_type": "display_data"
    }
   ],
   "source": [
    "k,vars = 5000, 2000\n",
    "Sn = sum( [np.random.exponential(size=k) for x in range(vars)])\n",
    "plt.hist(Sn,bins=50), plt.title('Sn')\n",
    "plt.show()"
   ]
  },
  {
   "cell_type": "markdown",
   "metadata": {
    "slideshow": {
     "slide_type": "slide"
    }
   },
   "source": [
    "## How to \"read\" the CLT\n",
    "\n",
    "Determine $x$ and $y$ such that 95% of the probability mass falls between $x$ and $y$."
   ]
  },
  {
   "cell_type": "code",
   "execution_count": 12,
   "metadata": {
    "slideshow": {
     "slide_type": "subslide"
    }
   },
   "outputs": [
    {
     "name": "stdout",
     "output_type": "stream",
     "text": [
      "2.5% of probability is lower than  -1.95996398454\n",
      "2.5% of probability is higher than  1.95996398454\n"
     ]
    }
   ],
   "source": [
    "print('2.5% of probability is lower than ', norm.ppf(0.025))\n",
    "print('2.5% of probability is higher than ', norm.ppf(0.975))"
   ]
  },
  {
   "cell_type": "markdown",
   "metadata": {
    "slideshow": {
     "slide_type": "subslide"
    }
   },
   "source": [
    "$$\\lim_{n \\rightarrow \\infty} P\\left[ x \\leq \\frac{S_n - n\\mu}{\\sigma \\sqrt n} \\leq y \\right] = \\phi(y) - \\phi(x)$$\n",
    "\n",
    "$$\\lim_{n \\rightarrow \\infty} P\\left[ x \\leq \\frac{S_n - n\\mu}{\\sigma \\sqrt n} \\leq y \\right] = 0.975-0.025$$\n",
    "\n",
    "$$\\lim_{n \\rightarrow \\infty} P\\left[ -1.96 \\leq \\frac{S_n - n\\mu}{\\sigma \\sqrt n} \\leq 1.96 \\right] = 0.975-0.025 = 0.95$$"
   ]
  },
  {
   "cell_type": "markdown",
   "metadata": {
    "slideshow": {
     "slide_type": "subslide"
    }
   },
   "source": [
    "Or, visually..."
   ]
  },
  {
   "cell_type": "code",
   "execution_count": 13,
   "metadata": {
    "hide_input": true,
    "slideshow": {
     "slide_type": "subslide"
    }
   },
   "outputs": [
    {
     "data": {
      "image/png": "[encoded data removed]",
      "text/plain": [
       "<matplotlib.figure.Figure at 0x1a11cc93c8>"
      ]
     },
     "metadata": {},
     "output_type": "display_data"
    }
   ],
   "source": [
    "xp = np.linspace(norm.ppf(0.001),norm.ppf(0.999), 100)\n",
    "plt.plot(xp, norm.pdf(xp),'r-', lw=5, alpha=0.6, label='norm pdf')\n",
    "x2 = np.linspace(norm.ppf(0.001),norm.ppf(0.025), 100)\n",
    "plt.fill_between(x2, min(norm.pdf(x2)), norm.pdf(x2),facecolor='blue', alpha=0.6)\n",
    "x2 = np.linspace(norm.ppf(0.975),norm.ppf(0.999), 100)\n",
    "plt.fill_between(x2, min(norm.pdf(x2)), norm.pdf(x2),facecolor='blue', alpha=0.6)\n",
    "plt.annotate('95%', xy=(0,0.10), xytext=(1.5, 0.20),\n",
    "            arrowprops=dict(facecolor='black', shrink=0.05),\n",
    "            )\n",
    "plt.show()"
   ]
  },
  {
   "cell_type": "markdown",
   "metadata": {
    "slideshow": {
     "slide_type": "slide"
    }
   },
   "source": [
    "## One-sided CLT\n",
    "\n",
    "The one-sided relationship is an obvious special case because $\\phi(-\\infty)$ = 0\n",
    "\n",
    "$$\\lim_{n \\rightarrow \\infty} P\\left[ x \\leq \\frac{S_n - n\\mu}{\\sigma \\sqrt n} \\leq y \\right] = \\phi(y) - \\phi(x)$$\n",
    "\n",
    "$$\\lim_{n \\rightarrow \\infty} P\\left[ -\\infty \\leq \\frac{S_n - n\\mu}{\\sigma \\sqrt n} \\leq y \\right] = \\phi(y) - \\phi(-\\infty)$$\n",
    "\n",
    "$$\\lim_{n \\rightarrow \\infty} P\\left[  \\frac{S_n - n\\mu}{\\sigma \\sqrt n} \\leq y \\right] = \\phi(y) - 0$$"
   ]
  },
  {
   "cell_type": "markdown",
   "metadata": {
    "slideshow": {
     "slide_type": "slide"
    }
   },
   "source": [
    "## But wait, it get's better!\n",
    "\n",
    "The terms of $S_n$ don't even have to have the same distribution within some resonable constraints. This means we can use the CLT to estimate the occurance of events, much as we did with the Weak Law.\n",
    "\n",
    "$$lim_{n\\rightarrow \\infty} P\\left[ x \\leq \\frac{S_n - E[S_n]}{\\sqrt{Var[S_n]}} \\leq y \\right] = \\phi(y) - \\phi(x) $$\n",
    "\n",
    "This is the basis for the observation that the sum of many random variables (height, IQ, grades in a large class) tend to be normally distributed."
   ]
  },
  {
   "cell_type": "markdown",
   "metadata": {
    "slideshow": {
     "slide_type": "slide"
    }
   },
   "source": [
    "## Limiting Samples using the CLT\n",
    "\n",
    "Recall that a binomial distribution has mean $n p$ and variance $n p(1-p)$.\n",
    "\n",
    "Now, consider an experiment where we determine if a sample obeys a property and we want to determine P[A] from $S_n$ much as in our application of the Weak Law.\n",
    "\n",
    "We phrased this as $$P\\left[ | \\frac{S_n}{n} -p | \\geq \\delta \\right] \\leq \\epsilon $$\n",
    "\n",
    "and then approximated the $n$ needed to estimate that $S_n /n = p$ with a precision $\\delta$"
   ]
  },
  {
   "cell_type": "markdown",
   "metadata": {
    "slideshow": {
     "slide_type": "slide"
    }
   },
   "source": [
    "## Transforming to the CLT\n",
    "\n",
    "Let $q = (1-p)$.\n",
    "\n",
    "\\begin{align}\n",
    "P\\left[ | \\frac{S_n}{n} -p | \\geq \\delta \\right] &= P\\left[ \\left| \\frac{S_n}{\\sqrt n} - {p \\sqrt n} \\right| \\geq {\\delta \\sqrt n}\\right] \\\\\n",
    "&= P\\left[ \\left| \\frac{S_n}{{\\sqrt pq} \\sqrt n} - \\frac{p \\sqrt n}{{\\sqrt pq}} \\right| \\geq \\frac{\\delta \\sqrt n}{{\\sqrt pq}}\\right] \\\\\n",
    "&= P\\left[ \\left| \\frac{S_n}{{\\sqrt pq} \\sqrt n} - \\frac{{\\sqrt n}\\times p \\sqrt n}{{{\\sqrt n} \\times\\sqrt pq}} \\right| \\geq \\frac{\\delta \\sqrt n}{{\\sqrt pq}}\\right]\n",
    "\\end{align}"
   ]
  },
  {
   "cell_type": "markdown",
   "metadata": {
    "slideshow": {
     "slide_type": "subslide"
    }
   },
   "source": [
    "\\begin{align}\n",
    "P\\left[ | \\frac{S_n}{n} -p | \\geq \\delta \\right] \n",
    "&= P\\left[ \\left| \\frac{S_n}{{\\sqrt pq} \\sqrt n} - \\frac{{\\sqrt n}\\times p \\sqrt n}{{{\\sqrt n} \\times\\sqrt pq}} \\right| \\geq \\frac{\\delta \\sqrt n}{{\\sqrt pq}}\\right] \\\\\n",
    "&= P\\left[ \\left| \\frac{S_n}{\\sqrt{p q n}} - \\frac{n p}{\\sqrt{n p q}} \\right| \\geq \\frac{\\delta \\sqrt n}{{\\sqrt pq}}\\right] \\\\\n",
    "&= P\\left[ \\left| \\frac{S_n - n p}{\\sqrt{p q n}} \\right| \\geq \\frac{\\delta \\sqrt n}{{\\sqrt pq}}\\right] \\\\\n",
    "\\end{align}\n",
    "We now have a bound we can set equal to $\\Phi$"
   ]
  },
  {
   "cell_type": "markdown",
   "metadata": {
    "slideshow": {
     "slide_type": "subslide"
    }
   },
   "source": [
    "We then break the absolute value in a \"left\" and \"right\" side.\n",
    "\n",
    "$P\\left[ | \\frac{S_n}{n} -p | \\geq \\delta \\right] = P\\left[ \\frac{S_n - n p}{\\sqrt{p q n}} \\leq - \\frac{\\delta \\sqrt n}{{\\sqrt pq}}\\right] + P\\left[ \\frac{S_n - n p}{\\sqrt{p q n}} \\geq \\frac{\\delta \\sqrt n}{{\\sqrt pq}}\\right]$"
   ]
  },
  {
   "cell_type": "code",
   "execution_count": 14,
   "metadata": {
    "hide_input": true
   },
   "outputs": [
    {
     "data": {
      "image/png": "[encoded data removed]",
      "text/plain": [
       "<matplotlib.figure.Figure at 0x1a12082828>"
      ]
     },
     "metadata": {},
     "output_type": "display_data"
    }
   ],
   "source": [
    "xp = np.linspace(norm.ppf(0.001),norm.ppf(0.999), 100)\n",
    "plt.plot(xp, norm.pdf(xp),'r-', lw=5, alpha=0.6, label='norm pdf')\n",
    "x2 = np.linspace(norm.ppf(0.001),norm.ppf(0.025), 100)\n",
    "plt.fill_between(x2, min(norm.pdf(x2)), norm.pdf(x2),facecolor='blue', alpha=0.6)\n",
    "x2 = np.linspace(norm.ppf(0.975),norm.ppf(0.999), 100)\n",
    "plt.fill_between(x2, min(norm.pdf(x2)), norm.pdf(x2),facecolor='blue', alpha=0.6)\n",
    "plt.annotate('2.5%', xy=(-2.5,0.05), xytext=(-3, 0.20),\n",
    "            arrowprops=dict(facecolor='black', shrink=0.05),\n",
    "            )\n",
    "plt.annotate('2.5%', xy=(2.5,0.05), xytext=(2.5, 0.20),\n",
    "            arrowprops=dict(facecolor='black', shrink=0.05),\n",
    "            )\n",
    "plt.show()"
   ]
  },
  {
   "cell_type": "markdown",
   "metadata": {
    "slideshow": {
     "slide_type": "slide"
    }
   },
   "source": [
    "So, we can conclude\n",
    "\n",
    "\\begin{align}\n",
    "P\\left[ | \\frac{S_n}{n} -p | \\geq \\delta \\right] &= \\phi( - \\frac{\\delta \\sqrt{n}}{\\sqrt{p q}}) + 1 - \\phi(\\frac{+ \\delta \\sqrt{n}}{\\sqrt{p q}}) \\\\\n",
    "&= 2\\left( 1 - \\phi(\\frac{\\delta \\sqrt{n}}{\\sqrt{p q}}) \\right)\n",
    "\\end{align}\n",
    "\n"
   ]
  },
  {
   "cell_type": "markdown",
   "metadata": {
    "slideshow": {
     "slide_type": "subslide"
    }
   },
   "source": [
    "Now we rewrite this as the _error bound_ $e$ we're willing to tolerate:\n",
    "$$ 2\\left( 1 - \\phi(\\frac{\\delta \\sqrt{n}}{\\sqrt{p q}}) \\right) = \\epsilon $$\n",
    "\n",
    "$$ \\phi(r) = (2 - \\epsilon)/2$$\n",
    "\n",
    "where $$r = \\frac{\\delta \\sqrt n}{\\sqrt{p q}}$$"
   ]
  },
  {
   "cell_type": "markdown",
   "metadata": {
    "slideshow": {
     "slide_type": "slide"
    }
   },
   "source": [
    "## Applying the CLT\n",
    "We saw that $$ \\phi(r) = (2 - \\epsilon)/2$$\n",
    "Now, we look up the value of $r$ that makes this equation hold:\n",
    "$$ r = \\phi^{-1}(\\frac{2 - \\epsilon}{2})$$\n",
    "\n",
    "_e.g._ for $e=0.05$ (_i.e._ we can be wrong 5% of the time..), $r = \\phi^{-1}((2-0.05)/2)=1.96$\n"
   ]
  },
  {
   "cell_type": "code",
   "execution_count": 15,
   "metadata": {
    "slideshow": {
     "slide_type": "-"
    }
   },
   "outputs": [
    {
     "data": {
      "text/plain": [
       "1.959963984540054"
      ]
     },
     "execution_count": 15,
     "metadata": {},
     "output_type": "execute_result"
    }
   ],
   "source": [
    "norm.ppf( (2-0.05)/2)"
   ]
  },
  {
   "cell_type": "markdown",
   "metadata": {
    "slideshow": {
     "slide_type": "subslide"
    }
   },
   "source": [
    "\n",
    "The definition of $r$ now yields the following estimate for $n$\n",
    "\n",
    "$$ n = \\frac{r^2 p q}{\\delta^2} \\leq \\frac{r^2}{4 \\delta^2} $$\n",
    "because $pq$ is maximal at $p = 1/2$."
   ]
  },
  {
   "cell_type": "markdown",
   "metadata": {
    "slideshow": {
     "slide_type": "slide"
    }
   },
   "source": [
    "## Example: Estimating Needed Samples\n",
    "\n",
    "Same problem as before. We're trying to estimate $$ P\\left[\\right| \\frac{S_n}{n} − p \\left| \\geq 0.1 \\right]≤0.05$$\n",
    "\n",
    "Earlier, we found we'd need to do $n=500$ measurements or, with a more accurate estimate of $p$, we'd need $n=320$ measurements.\n",
    "\n",
    "For $\\epsilon = 0.05$, we find that $r = 1.96$.\n",
    "\n",
    "If we have no idea what $p$ might be, we use the worse case estimate\n",
    "$$ n = \\frac{r^2 p q}{\\delta^2} = \\frac{r^2}{4 \\delta^2} = \\frac{1.96^2}{4 \\times 0.1^2} = 96 $$"
   ]
  },
  {
   "cell_type": "markdown",
   "metadata": {
    "slideshow": {
     "slide_type": "subslide"
    }
   },
   "source": [
    "If, as before, we estimate that $p$ may be close to 0.2, we use $$ n = \\frac{r^2 p q}{\\delta^2} = \\frac{r^2 * 0.2 * 0.8}{\\delta^2} = \\frac{1.96^2 * 0.2 * 0.8}{0.1^2} = 62$$\n",
    "\n",
    "This is significantly better than the estimates of 500 and 320 measurements needed using the Weak Law."
   ]
  },
  {
   "cell_type": "markdown",
   "metadata": {
    "slideshow": {
     "slide_type": "slide"
    }
   },
   "source": [
    "## Example: Estimating uncertainity given a specific number of samples\n",
    "\n",
    "Assume we've made 500 observations to estimate $p$ and let $\\epsilon = 0.05$ (_i.e._ we're willing to have our estimate of the uncertainity be wrong 5% of the time).\n",
    "\n",
    "What's the maximum error $\\delta$ we would see at the 5% uncertainity level?\n",
    "\n",
    "As before, $\\epsilon=0.05$ implies that $r=1.96$ _i.e._ $\\phi^{-1}( \\frac{2-0.05}{2}$ )\n",
    "\n",
    "Then, $$ \\delta = \\frac{ r \\times \\sqrt{pq}}{\\sqrt n} = \\frac{1.96 \\sqrt{pq}}{\\sqrt{n}} = \\frac{1.96}{4 \\sqrt{500}} = 0.022$$"
   ]
  },
  {
   "cell_type": "markdown",
   "metadata": {
    "slideshow": {
     "slide_type": "subslide"
    }
   },
   "source": [
    "Thus, at $n=96$ measurements, we had a 95% chance of being with 0.1 of the true mean, and if we continued to $n=500$ measurements, we had a 95% chance of being within 0.022 of the true mean."
   ]
  },
  {
   "cell_type": "markdown",
   "metadata": {
    "slideshow": {
     "slide_type": "slide"
    }
   },
   "source": [
    "## What's next?\n",
    "\n",
    "The CLT allows us to use the normal distribution to estimate the number of samples $n$ needed to measure means or probabilities with a specified precision.\n",
    "\n",
    "This is is the basis for the *confidence interval* and *hypothesis testing*.\n",
    "\n",
    "There are other robust methods for estimating the precision of measured data based on *resampling* that do not depend on the CLT and the assumption of normality of data. We'll also cover those."
   ]
  }
 ],
 "metadata": {
  "celltoolbar": "Slideshow",
  "kernelspec": {
   "display_name": "Python 3",
   "language": "python",
   "name": "python3"
  },
  "language_info": {
   "codemirror_mode": {
    "name": "ipython",
    "version": 3
   },
   "file_extension": ".py",
   "mimetype": "text/x-python",
   "name": "python",
   "nbconvert_exporter": "python",
   "pygments_lexer": "ipython3",
   "version": "3.8.8"
  }
 },
 "nbformat": 4,
 "nbformat_minor": 4
}
