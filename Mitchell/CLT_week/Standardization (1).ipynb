{
  "cells": [
    {
      "cell_type": "markdown",
      "source": [
        "# What are $\\mu$ and $\\sigma$ in the Standardization formula in a Normal distribution?\n",
        "Why do we somtimes have $$Z = \\frac{X-\\mu}{\\sigma}$$ and othertimes have $$Z = \\frac{Y-\\mu}{\\sigma/\\sqrt{n}}$$? Where does the $n$ come from, and when do we use $\\sigma$ or $\\sigma/\\sqrt{n}$?\n",
        "\n",
        "This experiment is designed to answer that question."
      ],
      "metadata": {}
    },
    {
      "cell_type": "code",
      "source": [
        "import numpy as np\n",
        "import matplotlib.pyplot as plt\n",
        "%matplotlib inline"
      ],
      "outputs": [],
      "execution_count": 4,
      "metadata": {}
    },
    {
      "cell_type": "markdown",
      "source": [
        "Let's say there is a population of 1 million-ish people whose ages are between 20-70.\n",
        "Note that the original probability distribution of r.v. $X$ doesn't have to be a normal distribution in order to make the $\\bar{X}$ to be normally distributed. \n",
        "No matter which distribution the $X$ had, $\\bar{X}$ will follow normali distribution given enough sample size- this is CLT.\n",
        "Here, however, we're interested to compare the relationship between the $\\mu$ and $\\sigma$ of two random variables $X$ and $\\bar{X}$, where $X$ and $\\bar{X}$ follow normal distributions, especially check where the $n$ comes from in the $\\sigma/\\sqrt{n}$. Therefore, I shall make the $X$ to be normally distributed."
      ],
      "metadata": {}
    },
    {
      "cell_type": "code",
      "source": [
        "#Each element value (the age of a person) in this array Xpop (the popuation) is a random variable X.\n",
        "Xpop =  np.random.normal(loc=45, scale=10, size=1000000)  "
      ],
      "outputs": [],
      "execution_count": 5,
      "metadata": {}
    },
    {
      "cell_type": "code",
      "source": [
        "plt.hist(Xpop, bins=50);"
      ],
      "outputs": [
        {
          "output_type": "display_data",
          "data": {
            "image/png": "[encoded data removed]",
            "text/plain": [
              "<Figure size 432x288 with 1 Axes>"
            ]
          },
          "metadata": {
            "needs_background": "light"
          }
        }
      ],
      "execution_count": 8,
      "metadata": {}
    },
    {
      "cell_type": "code",
      "source": [
        "Xpop = Xpop[(Xpop>=20)&(Xpop<=70)] # remove the ages that are out of range [20,70]"
      ],
      "outputs": [],
      "execution_count": 16,
      "metadata": {}
    },
    {
      "cell_type": "code",
      "source": [
        "Xpop.shape[0]"
      ],
      "outputs": [
        {
          "output_type": "execute_result",
          "execution_count": 17,
          "data": {
            "text/plain": [
              "987728"
            ]
          },
          "metadata": {}
        }
      ],
      "execution_count": 17,
      "metadata": {}
    },
    {
      "cell_type": "code",
      "source": [
        "plt.hist(Xpop, bins=50);"
      ],
      "outputs": [
        {
          "output_type": "display_data",
          "data": {
            "image/png": "[encoded data removed]",
            "text/plain": [
              "<Figure size 432x288 with 1 Axes>"
            ]
          },
          "metadata": {
            "needs_background": "light"
          }
        }
      ],
      "execution_count": 18,
      "metadata": {}
    },
    {
      "cell_type": "code",
      "source": [
        "# What is the mean of the ages of people in the entire population?\n",
        "Xpop.mean()"
      ],
      "outputs": [
        {
          "output_type": "execute_result",
          "execution_count": 23,
          "data": {
            "text/plain": [
              "44.99033394970213"
            ]
          },
          "metadata": {}
        }
      ],
      "execution_count": 23,
      "metadata": {}
    },
    {
      "cell_type": "code",
      "source": [
        "# What is the standard deviation of the ages of people in the entire population?\n",
        "Xpop.std()"
      ],
      "outputs": [
        {
          "output_type": "execute_result",
          "execution_count": 24,
          "data": {
            "text/plain": [
              "9.542375725075212"
            ]
          },
          "metadata": {}
        }
      ],
      "execution_count": 24,
      "metadata": {}
    },
    {
      "cell_type": "code",
      "source": [
        "def samples(n,m,X):\n",
        "    \"\"\"\n",
        "    Returns a list of average age in a group.  \n",
        "    n: number of people in one group\n",
        "    m: number of groups\n",
        "    \"\"\"\n",
        "    Xbar = np.array([np.mean(np.random.choice(X, size=n)) for _ in range(m)])\n",
        "    return Xbar"
      ],
      "outputs": [],
      "execution_count": 13,
      "metadata": {}
    },
    {
      "cell_type": "code",
      "source": [
        "Xbar = samples(100, 1000, Xpop)\n",
        "# Interpretation: We draw 1000 groups, each of which consist of 100 people.\n",
        "# Each element in the Xbar array represent the average age of the each group"
      ],
      "outputs": [],
      "execution_count": 19,
      "metadata": {}
    },
    {
      "cell_type": "code",
      "source": [
        "Xbar.shape"
      ],
      "outputs": [
        {
          "output_type": "execute_result",
          "execution_count": 15,
          "data": {
            "text/plain": [
              "(1000,)"
            ]
          },
          "metadata": {}
        }
      ],
      "execution_count": 15,
      "metadata": {}
    },
    {
      "cell_type": "code",
      "source": [
        "# Let's look the distribution of the average age of the group\n",
        "plt.hist(Xbar, bins=50); "
      ],
      "outputs": [
        {
          "output_type": "display_data",
          "data": {
            "image/png": "[encoded data removed]",
            "text/plain": [
              "<Figure size 432x288 with 1 Axes>"
            ]
          },
          "metadata": {
            "needs_background": "light"
          }
        }
      ],
      "execution_count": 20,
      "metadata": {}
    },
    {
      "cell_type": "code",
      "source": [
        "# What is the mean of the Xbar (the mean of the average age in a group)?\n",
        "Xbar.mean()"
      ],
      "outputs": [
        {
          "output_type": "execute_result",
          "execution_count": 21,
          "data": {
            "text/plain": [
              "45.00289855974956"
            ]
          },
          "metadata": {}
        }
      ],
      "execution_count": 21,
      "metadata": {}
    },
    {
      "cell_type": "code",
      "source": [
        "# What is the standard deviation of the Xbar (the standard deviation of the average age in a group)?\n",
        "Xbar.std()"
      ],
      "outputs": [
        {
          "output_type": "execute_result",
          "execution_count": 22,
          "data": {
            "text/plain": [
              "0.9551099385840024"
            ]
          },
          "metadata": {}
        }
      ],
      "execution_count": 22,
      "metadata": {}
    },
    {
      "cell_type": "code",
      "source": [
        "print(Xpop.var(), Xbar.var())"
      ],
      "outputs": [
        {
          "output_type": "stream",
          "name": "stdout",
          "text": [
            "91.05693447850469 0.9122349947819368\n"
          ]
        }
      ],
      "execution_count": 26,
      "metadata": {}
    },
    {
      "cell_type": "code",
      "source": [
        "# What is the relationship between the E[X] vs. E[Xbar], and Var[X] vs. Var[Xbar]? \n",
        "# Copied from the above results:\n",
        "# E[X] : mean age of the entire population- 44.99\n",
        "# E[Xbar] : mean of \"the average age of each group\", where each group has 100 people - 45.00\n",
        "# Var[X] = 91\n",
        "# Var[Xbar] = 1\n",
        "# We can conclude that 1) E[X]~E[Xbar] and Var[X]~ N * Var[Xbar], where N is the number of people in a group. (n=100)"
      ],
      "outputs": [],
      "execution_count": 27,
      "metadata": {}
    },
    {
      "cell_type": "markdown",
      "source": [
        "In the z-statistics, the standardization of a random variable $\\bar{x}$ uses formula $$\\frac{\\bar{X}-\\mu}{\\sigma/\\sqrt(n)}$$, we can now see that the $\\sigma/\\sqrt{n}$ is the standard deviation of the r.v. $\\bar{X}$ (sample mean = average age of each sample group), and the $\\sigma$ is the standard deviation of the age in the entire population, while $\\mu = E[X] = E[\\bar{X}]$.\n",
        "\n",
        "Note that we had two kinds of numbers: \n",
        "- n (or N): sample size = number of people in each group (a group can be thought of one sampling)\n",
        "- m : how many samplings or experiments we did to run the statistics for $\\bar{X}$ = number of groups\n",
        "\n",
        "As you can see, what matters in the variance of $\\bar{X}$ is the n, not m.\n",
        "You can try changing n and/or m and see what happens.\n",
        "\n",
        "In summary, a standardization of a random variable Y is $$\\frac{Y-E[Y]}{\\sqrt{Var[Y]}}$$.\n",
        "In case the Y follows a normal distribution, we can rewrite it as $$\\frac{Y-\\mu_Y}{\\sigma_Y}$$.\n",
        "Furthermore, in case Y is a mean of another random variable $X$ (i.e., $Y=\\bar{X}$), then, $\\mu_Y = \\mu_{\\bar{X}} = \\mu_X$, and $\\sigma_Y = \\sigma_{\\bar{X}} = \\sigma_X/\\sqrt{n}$, therefore, \n",
        "$$\\frac{\\bar{X}-\\mu}{\\sigma/\\sqrt(n)}$$,\n",
        "where $\\mu = \\mu_X$ and $\\sigma = \\sigma_X$ as in above formula.\n",
        "\n",
        "### Conclusion:\n",
        "1. Any random variable $X$ that follows a normal distribution $N(\\mu, \\sigma)$ can be standardized to follow $N(0,1)$. To do that we can transform to $Z$ by \n",
        "$$ Z = \\frac{X-\\mu}{\\sigma}$$, where $\\mu = E[X]$ and $\\sigma = \\sqrt{Var[X]}$.\n",
        "2. If a random variable $Y$ is happen to be a mean of another random variable $X$, then use $\\sigma_Y = \\sqrt{Var[Y]} = \\sqrt{Var[X]/n} = \\sigma_X/\\sqrt{n}$, where n is the sample size for the averaging."
      ],
      "metadata": {}
    },
    {
      "cell_type": "code",
      "source": [],
      "outputs": [],
      "execution_count": null,
      "metadata": {}
    }
  ],
  "metadata": {
    "kernelspec": {
      "display_name": "Python 3",
      "language": "python",
      "name": "python3"
    },
    "language_info": {
      "codemirror_mode": {
        "name": "ipython",
        "version": 3
      },
      "file_extension": ".py",
      "mimetype": "text/x-python",
      "name": "python",
      "nbconvert_exporter": "python",
      "pygments_lexer": "ipython3",
      "version": "3.7.4"
    },
    "nteract": {
      "version": "0.14.5"
    }
  },
  "nbformat": 4,
  "nbformat_minor": 2
}