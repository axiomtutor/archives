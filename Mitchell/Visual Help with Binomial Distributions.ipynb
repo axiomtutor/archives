{
 "cells": [
  {
   "cell_type": "code",
   "execution_count": null,
   "metadata": {},
   "outputs": [],
   "source": [
    "#Visual Help with Binomial Distributions"
   ]
  },
  {
   "cell_type": "code",
   "execution_count": null,
   "metadata": {},
   "outputs": [],
   "source": [
    "from scipy.stats import binom\n",
    "import numpy as np\n",
    "import matplotlib.pyplot as plt"
   ]
  },
  {
   "cell_type": "code",
   "execution_count": null,
   "metadata": {},
   "outputs": [],
   "source": [
    "xmax=40\n",
    "for it in [[20,0.5,'g'],[40,0.5,'orange'],[20,0.75,'b'],[20,0.25,'r']]:\n",
    "    n=it[0]\n",
    "    p=it[1]\n",
    "    mean, var, skew, kurt = binom.stats(n, p, moments='mvsk')\n",
    "    x = np.arange(0,xmax)\n",
    "    y = binom.pmf(x,n,p)\n",
    "    rv = binom(n, p)\n",
    "    plt.plot(x,y,label='n='+str(it[0])+', p='+str(it[1]),color=it[2])\n",
    "    plt.legend()\n",
    "    plt.plot(n*p,rv.pmf(n*p),'*',color=it[2])\n",
    "    \n",
    "    "
   ]
  },
  {
   "cell_type": "code",
   "execution_count": null,
   "metadata": {},
   "outputs": [],
   "source": [
    "xmax=40\n",
    "fig, ax = plt.subplots(1, 1)\n",
    "for it in [[20,0.5,'g'],[40,0.5,'orange'],[20,0.75,'b'],[20,0.25,'r']]:\n",
    "    n=it[0]\n",
    "    p=it[1]\n",
    "    mean, var, skew, kurt = binom.stats(n, p, moments='mvsk')\n",
    "    x = np.arange(0,xmax)\n",
    "    y = binom.cdf(x,n,p)\n",
    "    ax.plot(x,y,label='n='+str(it[0])+', p='+str(it[1]),color=it[2])\n",
    "    ax.legend()\n",
    "    rv = binom(n, p)\n",
    "    ax.plot(n*p,rv.cdf(n*p),'*',color=it[2])"
   ]
  }
 ],
 "metadata": {
  "kernelspec": {
   "display_name": "Python 3",
   "language": "python",
   "name": "python3"
  },
  "language_info": {
   "codemirror_mode": {
    "name": "ipython",
    "version": 3
   },
   "file_extension": ".py",
   "mimetype": "text/x-python",
   "name": "python",
   "nbconvert_exporter": "python",
   "pygments_lexer": "ipython3",
   "version": "3.8.6"
  }
 },
 "nbformat": 4,
 "nbformat_minor": 4
}
