{
 "cells": [
  {
   "cell_type": "code",
   "execution_count": 1,
   "metadata": {},
   "outputs": [],
   "source": [
    "%matplotlib inline\n",
    "import numpy as np\n",
    "import scipy as sp\n",
    "import scipy.stats as stats\n",
    "import pandas as pd\n",
    "import matplotlib.pyplot as plt\n",
    "import seaborn as sns\n",
    "# Set color map to have light blue background\n",
    "sns.set()\n",
    "import statsmodels.formula.api as smf\n",
    "import statsmodels.api as sm"
   ]
  },
  {
   "cell_type": "markdown",
   "metadata": {},
   "source": [
    "N.B.: I recommend that you use the `statsmodel` library to do the regression analysis as opposed to *e.g.* `sklearn`. The `sklearn` library is great for advanced topics, but it's easier to get lost in a sea of details and it's not needed for these problems."
   ]
  },
  {
   "cell_type": "markdown",
   "metadata": {},
   "source": [
    "# 1.  Fitting a Regression Model [10 points]"
   ]
  },
  {
   "cell_type": "markdown",
   "metadata": {},
   "source": [
    "Using the following data:"
   ]
  },
  {
   "cell_type": "code",
   "execution_count": 2,
   "metadata": {
    "nbgrader": {
     "grade": false,
     "grade_id": "cell-a6ed23990d8a02ca",
     "locked": true,
     "schema_version": 1,
     "solution": false
    }
   },
   "outputs": [],
   "source": [
    "poly_x = np.array([-5.        , -4.79591837, -4.59183673, -4.3877551 , -4.18367347,\n",
    "       -3.97959184, -3.7755102 , -3.57142857, -3.36734694, -3.16326531,\n",
    "       -2.95918367, -2.75510204, -2.55102041, -2.34693878, -2.14285714,\n",
    "       -1.93877551, -1.73469388, -1.53061224, -1.32653061, -1.12244898,\n",
    "       -0.91836735, -0.71428571, -0.51020408, -0.30612245, -0.10204082,\n",
    "        0.10204082,  0.30612245,  0.51020408,  0.71428571,  0.91836735,\n",
    "        1.12244898,  1.32653061,  1.53061224,  1.73469388,  1.93877551,\n",
    "        2.14285714,  2.34693878,  2.55102041,  2.75510204,  2.95918367,\n",
    "        3.16326531,  3.36734694,  3.57142857,  3.7755102 ,  3.97959184,\n",
    "        4.18367347,  4.3877551 ,  4.59183673,  4.79591837,  5.        ])"
   ]
  },
  {
   "cell_type": "code",
   "execution_count": 3,
   "metadata": {
    "nbgrader": {
     "grade": false,
     "grade_id": "cell-99762b58eb8a91ea",
     "locked": true,
     "schema_version": 1,
     "solution": false
    }
   },
   "outputs": [],
   "source": [
    "poly_y = np.array([-126.99769104, -121.76363745, -107.05551625,  -66.4135443 ,\n",
    "        -51.66992718,  -40.69610161,  -45.38354202,  -58.75964619,\n",
    "        -39.16974993,  -33.85796291,  -28.04111151,  -36.81766799,\n",
    "        -18.28088923,   -6.45665831,  -29.47435017,   -0.75081722,\n",
    "        -28.57616465,   15.16568923,   16.59302615,   -2.78764992,\n",
    "        -11.75883341,   13.12494657,   -1.88394446,   22.02465669,\n",
    "        -16.55482107,   -2.91427672,  -15.78789502,   11.2687875 ,\n",
    "        -23.09030237,   -3.7153776 ,    7.87571976,   22.1994704 ,\n",
    "         -5.909068  ,   -0.56562841,   25.03561638,   -5.8824932 ,\n",
    "         -4.52039745,   31.85118924,   41.35070605,   47.13163559,\n",
    "         26.12835471,   17.40423706,   27.98496168,   59.02195887,\n",
    "         68.41065196,   76.08040375,   77.44338322,   83.74765871,\n",
    "        101.37765463,  113.69478397])"
   ]
  },
  {
   "cell_type": "code",
   "execution_count": 4,
   "metadata": {
    "nbgrader": {
     "grade": false,
     "grade_id": "cell-394f091d47473b2f",
     "locked": true,
     "schema_version": 1,
     "solution": false
    }
   },
   "outputs": [],
   "source": [
    "poly = pd.DataFrame( {'x' : poly_x, 'y': poly_y })"
   ]
  },
  {
   "cell_type": "markdown",
   "metadata": {},
   "source": [
    "Fit a regression model to this data that minimizes the $R^2$ as well as the complexity of the model. You should consider the models discussed in the book and lecture (linear, polynomial and logrithmic models). Explain, in comments using '#' how you arrived at your model."
   ]
  },
  {
   "cell_type": "code",
   "execution_count": 5,
   "metadata": {
    "nbgrader": {
     "grade": true,
     "grade_id": "cell-dc43de2d25791f06",
     "locked": false,
     "points": 10,
     "schema_version": 1,
     "solution": true
    }
   },
   "outputs": [
    {
     "name": "stderr",
     "output_type": "stream",
     "text": [
      "*c* argument looks like a single numeric RGB or RGBA sequence, which should be avoided as value-mapping will have precedence in case its length matches with *x* & *y*.  Please use the *color* keyword-argument or provide a 2-D array with a single row if you intend to specify the same RGB or RGBA value for all points.\n"
     ]
    },
    {
     "data": {
      "text/plain": [
       "<AxesSubplot:xlabel='x', ylabel='y'>"
      ]
     },
     "execution_count": 5,
     "metadata": {},
     "output_type": "execute_result"
    },
    {
     "data": {
      "image/png": "[encoded data removed]",
      "text/plain": [
       "<Figure size 432x288 with 1 Axes>"
      ]
     },
     "metadata": {},
     "output_type": "display_data"
    }
   ],
   "source": [
    "poly.plot(kind='scatter', x=\"x\", y=\"y\")"
   ]
  },
  {
   "cell_type": "code",
   "execution_count": 6,
   "metadata": {},
   "outputs": [
    {
     "name": "stdout",
     "output_type": "stream",
     "text": [
      "[-0.61240347 15.03080575]\n"
     ]
    }
   ],
   "source": [
    "X=poly_x\n",
    "Y=poly_y\n",
    "X=sm.add_constant(X)\n",
    "model = sm.OLS(Y,X)\n",
    "print(model.fit().params)"
   ]
  },
  {
   "cell_type": "code",
   "execution_count": 7,
   "metadata": {},
   "outputs": [
    {
     "name": "stdout",
     "output_type": "stream",
     "text": [
      "Intercept    -0.612403\n",
      "x            15.030806\n",
      "dtype: float64\n"
     ]
    }
   ],
   "source": [
    "model = smf.ols('y~x**3', data=poly)\n",
    "print(model.fit().params)"
   ]
  },
  {
   "cell_type": "code",
   "execution_count": 8,
   "metadata": {},
   "outputs": [
    {
     "data": {
      "text/plain": [
       "[<matplotlib.lines.Line2D at 0x7f44f736b730>]"
      ]
     },
     "execution_count": 8,
     "metadata": {},
     "output_type": "execute_result"
    },
    {
     "data": {
      "image/png": "[encoded data removed]",
      "text/plain": [
       "<Figure size 432x288 with 1 Axes>"
      ]
     },
     "metadata": {},
     "output_type": "display_data"
    }
   ],
   "source": [
    "a0, a2 = model.fit().params[0], model.fit().params[1]\n",
    "\n",
    "plt.scatter(poly_x, poly_y)\n",
    "xsamp = np.linspace(-2,2)\n",
    "y = a0 + a2*xsamp**3\n",
    "plt.plot(xsamp,y)"
   ]
  },
  {
   "cell_type": "markdown",
   "metadata": {},
   "source": [
    "# 2. Multi-Linear Regression [40 pts]"
   ]
  },
  {
   "cell_type": "markdown",
   "metadata": {},
   "source": [
    "In the following problem, you will construct a simple multi-linear regression model, identify interaction terms and use diagnostic plots to identify outliers in the data. The original problem is as described by John Verzani in the [excellent tutorial 'SimplR' on the R statistics language](https://cran.r-project.org/doc/contrib/Verzani-SimpleR.pdf) and uses data from the 2000 presidential election in Florida. The problem is interesting because it contains a small number of highly leveraged points that influence the model."
   ]
  },
  {
   "cell_type": "code",
   "execution_count": 9,
   "metadata": {
    "nbgrader": {
     "grade": false,
     "grade_id": "cell-92b52bca38b3c044",
     "locked": true,
     "schema_version": 1,
     "solution": false
    }
   },
   "outputs": [
    {
     "data": {
      "text/html": [
       "<div>\n",
       "<style scoped>\n",
       "    .dataframe tbody tr th:only-of-type {\n",
       "        vertical-align: middle;\n",
       "    }\n",
       "\n",
       "    .dataframe tbody tr th {\n",
       "        vertical-align: top;\n",
       "    }\n",
       "\n",
       "    .dataframe thead th {\n",
       "        text-align: right;\n",
       "    }\n",
       "</style>\n",
       "<table border=\"1\" class=\"dataframe\">\n",
       "  <thead>\n",
       "    <tr style=\"text-align: right;\">\n",
       "      <th></th>\n",
       "      <th>county</th>\n",
       "      <th>Bush</th>\n",
       "      <th>Gore</th>\n",
       "      <th>Nader</th>\n",
       "      <th>Buchanan</th>\n",
       "    </tr>\n",
       "  </thead>\n",
       "  <tbody>\n",
       "    <tr>\n",
       "      <th>count</th>\n",
       "      <td>67</td>\n",
       "      <td>67.000000</td>\n",
       "      <td>67.000000</td>\n",
       "      <td>67.000000</td>\n",
       "      <td>67.000000</td>\n",
       "    </tr>\n",
       "    <tr>\n",
       "      <th>unique</th>\n",
       "      <td>67</td>\n",
       "      <td>NaN</td>\n",
       "      <td>NaN</td>\n",
       "      <td>NaN</td>\n",
       "      <td>NaN</td>\n",
       "    </tr>\n",
       "    <tr>\n",
       "      <th>top</th>\n",
       "      <td>Levy</td>\n",
       "      <td>NaN</td>\n",
       "      <td>NaN</td>\n",
       "      <td>NaN</td>\n",
       "      <td>NaN</td>\n",
       "    </tr>\n",
       "    <tr>\n",
       "      <th>freq</th>\n",
       "      <td>1</td>\n",
       "      <td>NaN</td>\n",
       "      <td>NaN</td>\n",
       "      <td>NaN</td>\n",
       "      <td>NaN</td>\n",
       "    </tr>\n",
       "    <tr>\n",
       "      <th>mean</th>\n",
       "      <td>NaN</td>\n",
       "      <td>43450.970149</td>\n",
       "      <td>43453.985075</td>\n",
       "      <td>1454.119403</td>\n",
       "      <td>260.880597</td>\n",
       "    </tr>\n",
       "    <tr>\n",
       "      <th>std</th>\n",
       "      <td>NaN</td>\n",
       "      <td>57182.620266</td>\n",
       "      <td>75070.435056</td>\n",
       "      <td>2033.620972</td>\n",
       "      <td>450.498092</td>\n",
       "    </tr>\n",
       "    <tr>\n",
       "      <th>min</th>\n",
       "      <td>NaN</td>\n",
       "      <td>1317.000000</td>\n",
       "      <td>789.000000</td>\n",
       "      <td>19.000000</td>\n",
       "      <td>9.000000</td>\n",
       "    </tr>\n",
       "    <tr>\n",
       "      <th>25%</th>\n",
       "      <td>NaN</td>\n",
       "      <td>4757.000000</td>\n",
       "      <td>3058.000000</td>\n",
       "      <td>95.500000</td>\n",
       "      <td>46.500000</td>\n",
       "    </tr>\n",
       "    <tr>\n",
       "      <th>50%</th>\n",
       "      <td>NaN</td>\n",
       "      <td>20206.000000</td>\n",
       "      <td>14167.000000</td>\n",
       "      <td>562.000000</td>\n",
       "      <td>120.000000</td>\n",
       "    </tr>\n",
       "    <tr>\n",
       "      <th>75%</th>\n",
       "      <td>NaN</td>\n",
       "      <td>56546.500000</td>\n",
       "      <td>46015.000000</td>\n",
       "      <td>1870.500000</td>\n",
       "      <td>285.500000</td>\n",
       "    </tr>\n",
       "    <tr>\n",
       "      <th>max</th>\n",
       "      <td>NaN</td>\n",
       "      <td>289533.000000</td>\n",
       "      <td>387703.000000</td>\n",
       "      <td>10022.000000</td>\n",
       "      <td>3411.000000</td>\n",
       "    </tr>\n",
       "  </tbody>\n",
       "</table>\n",
       "</div>"
      ],
      "text/plain": [
       "       county           Bush           Gore         Nader     Buchanan\n",
       "count      67      67.000000      67.000000     67.000000    67.000000\n",
       "unique     67            NaN            NaN           NaN          NaN\n",
       "top      Levy            NaN            NaN           NaN          NaN\n",
       "freq        1            NaN            NaN           NaN          NaN\n",
       "mean      NaN   43450.970149   43453.985075   1454.119403   260.880597\n",
       "std       NaN   57182.620266   75070.435056   2033.620972   450.498092\n",
       "min       NaN    1317.000000     789.000000     19.000000     9.000000\n",
       "25%       NaN    4757.000000    3058.000000     95.500000    46.500000\n",
       "50%       NaN   20206.000000   14167.000000    562.000000   120.000000\n",
       "75%       NaN   56546.500000   46015.000000   1870.500000   285.500000\n",
       "max       NaN  289533.000000  387703.000000  10022.000000  3411.000000"
      ]
     },
     "execution_count": 9,
     "metadata": {},
     "output_type": "execute_result"
    }
   ],
   "source": [
    "votes = pd.read_csv('fl2000.txt', delim_whitespace=True, comment='#')\n",
    "votes = votes[['county', 'Bush', 'Gore', 'Nader', 'Buchanan']]\n",
    "votes.describe(include='all')"
   ]
  },
  {
   "cell_type": "markdown",
   "metadata": {},
   "source": [
    "### 2a. Plot a pair plot of the data using the `seaborn` library. [5 pts]"
   ]
  },
  {
   "cell_type": "code",
   "execution_count": 10,
   "metadata": {
    "nbgrader": {
     "grade": true,
     "grade_id": "cell-e7fbf7ee30e86fc8",
     "locked": false,
     "points": 5,
     "schema_version": 1,
     "solution": true
    }
   },
   "outputs": [
    {
     "data": {
      "text/plain": [
       "<seaborn.axisgrid.PairGrid at 0x7f44f74024f0>"
      ]
     },
     "execution_count": 10,
     "metadata": {},
     "output_type": "execute_result"
    },
    {
     "data": {
      "image/png": "[encoded data removed]",
      "text/plain": [
       "<Figure size 720x720 with 20 Axes>"
      ]
     },
     "metadata": {},
     "output_type": "display_data"
    }
   ],
   "source": [
    "# your answer\n",
    "sns.pairplot(votes)"
   ]
  },
  {
   "cell_type": "markdown",
   "metadata": {},
   "source": [
    "### 2b. Comment on the relationship between the quantiative datasets. Are they correlated? Colinear? [5 pts]"
   ]
  },
  {
   "cell_type": "code",
   "execution_count": 11,
   "metadata": {
    "nbgrader": {
     "grade": true,
     "grade_id": "cell-27c1f528ed5f94d8",
     "locked": false,
     "points": 5,
     "schema_version": 1,
     "solution": true
    }
   },
   "outputs": [],
   "source": [
    "# your answer"
   ]
  },
  {
   "cell_type": "markdown",
   "metadata": {},
   "source": [
    "### 2c. Multi-linear [5 pts]\n",
    "\n",
    "Construct a mulit-linear model without interaction terms predicting the Bush column on the other columns and print out the summary table"
   ]
  },
  {
   "cell_type": "code",
   "execution_count": 12,
   "metadata": {
    "nbgrader": {
     "grade": true,
     "grade_id": "cell-46886bfe03105159",
     "locked": false,
     "points": 5,
     "schema_version": 1,
     "solution": true
    }
   },
   "outputs": [
    {
     "name": "stdout",
     "output_type": "stream",
     "text": [
      "Intercept    6507.479224\n",
      "Nader          23.755397\n",
      "Buchanan        9.200786\n",
      "dtype: float64\n"
     ]
    }
   ],
   "source": [
    "# your answer\n",
    "votes = votes.dropna()\n",
    "result = smf.ols('Bush ~ Nader + Buchanan', data=votes).fit()\n",
    "print(result.params)"
   ]
  },
  {
   "cell_type": "markdown",
   "metadata": {},
   "source": [
    "### 2d. Multi-linear with interactions [10 pts]\n",
    "\n",
    "Construct a multi-linear model with interactions that are statistically significant at the $p = 0.05$ level. You can start with full interactions and then eliminate interactions are do not meet the $p = 0.05$ threshold."
   ]
  },
  {
   "cell_type": "code",
   "execution_count": 13,
   "metadata": {
    "nbgrader": {
     "grade": true,
     "grade_id": "cell-3f4404dc9eec875f",
     "locked": false,
     "points": 10,
     "schema_version": 1,
     "solution": true
    }
   },
   "outputs": [],
   "source": [
    "# your answer"
   ]
  },
  {
   "cell_type": "markdown",
   "metadata": {},
   "source": [
    "### 2e. Leverage [5 pts]\n",
    "\n",
    "Plot the *leverage* vs. the square of the residual as described in the diagnostic plots."
   ]
  },
  {
   "cell_type": "code",
   "execution_count": 14,
   "metadata": {
    "nbgrader": {
     "grade": true,
     "grade_id": "cell-70d4a8d628aebb25",
     "locked": false,
     "points": 5,
     "schema_version": 1,
     "solution": true
    }
   },
   "outputs": [
    {
     "data": {
      "image/png": "[encoded data removed]",
      "text/plain": [
       "<Figure size 432x288 with 1 Axes>"
      ]
     },
     "execution_count": 14,
     "metadata": {},
     "output_type": "execute_result"
    },
    {
     "data": {
      "image/png": "[encoded data removed]",
      "text/plain": [
       "<Figure size 432x288 with 1 Axes>"
      ]
     },
     "metadata": {},
     "output_type": "display_data"
    }
   ],
   "source": [
    "# your answer\n",
    "sm.graphics.plot_leverage_resid2(result)"
   ]
  },
  {
   "cell_type": "markdown",
   "metadata": {},
   "source": [
    "### 2f. Identify and Clean [5pts]\n",
    "\n",
    "The leverage *vs* residual plot indicates that some rows have high leverage but small residuals and others have high residual. The $R^2$ of the model is determined by the residual. The data is from the disputed 2000 election [where one county](https://en.wikipedia.org/wiki/2000_United_States_presidential_election_recount_in_Florida) caused significant issues.\n",
    "\n",
    "Display the *4* rows for the points indicated having high leverage and/or high residual squared. You will use this to improve the model $R^2$."
   ]
  },
  {
   "cell_type": "code",
   "execution_count": 15,
   "metadata": {
    "nbgrader": {
     "grade": true,
     "grade_id": "cell-0af1acd806ae48e6",
     "locked": false,
     "points": 5,
     "schema_version": 1,
     "solution": true
    }
   },
   "outputs": [
    {
     "name": "stdout",
     "output_type": "stream",
     "text": [
      "        county    Bush   Gore  Nader  Buchanan\n",
      "0      Alachua   34124  47365   3226       263\n",
      "1        Baker    5610   2392     53        73\n",
      "2          Bay   38637  18850    828       248\n",
      "3     Bradford    5414   3075     84        65\n",
      "4      Brevard  115185  97318   4470       570\n",
      "..         ...     ...    ...    ...       ...\n",
      "62       Union    2332   1407     33        37\n",
      "63     Volusia   82357  97304   2910       498\n",
      "64     Wakulla    4512   3838    149        46\n",
      "65      Walton   12182   5642    265       120\n",
      "66  Washington    4994   2798     93        88\n",
      "\n",
      "[65 rows x 5 columns]\n"
     ]
    },
    {
     "data": {
      "image/png": "[encoded data removed]",
      "text/plain": [
       "<Figure size 432x288 with 1 Axes>"
      ]
     },
     "execution_count": 15,
     "metadata": {},
     "output_type": "execute_result"
    },
    {
     "data": {
      "image/png": "[encoded data removed]",
      "text/plain": [
       "<Figure size 432x288 with 1 Axes>"
      ]
     },
     "metadata": {},
     "output_type": "display_data"
    }
   ],
   "source": [
    "# your answer\n",
    "cvotes = votes.drop([49,51], axis=0)\n",
    "print(cvotes)\n",
    "result = smf.ols('Bush ~ Nader + Buchanan', data=cvotes).fit()\n",
    "sm.graphics.plot_leverage_resid2(result)"
   ]
  },
  {
   "cell_type": "markdown",
   "metadata": {},
   "source": [
    "### 2g. Final model [5 pts]\n",
    "\n",
    "Develop your final model by dropping *one* of the troublesome data points indicated in the leverage *vs* residual plot and insuring any interactions in your model are still significant at $p=0.05$. Your model should have an $R^2$ great than 0.95."
   ]
  },
  {
   "cell_type": "code",
   "execution_count": 16,
   "metadata": {
    "nbgrader": {
     "grade": true,
     "grade_id": "cell-94c38b6a2456167e",
     "locked": false,
     "points": 5,
     "schema_version": 1,
     "solution": true
    }
   },
   "outputs": [],
   "source": [
    "# your answer"
   ]
  },
  {
   "cell_type": "markdown",
   "metadata": {},
   "source": [
    "## 3. Body Mass Index Model"
   ]
  },
  {
   "cell_type": "markdown",
   "metadata": {},
   "source": [
    "In this problem, you will first clean a data set and create a model to estimate body fat based on the common BMI measure. Then, you will use the **forward stepwise selection** and **backware stepwise selection** methods to create more accurate predictors for body fat.\n",
    "\n",
    "The body density dataset in file `bodyfat` includes the following 15 variables listed from left to right:\n",
    "* Density : Density determined from underwater weighing\n",
    "* Fat : Percent body fat from Siri’s (1956) equation\n",
    "* Age : Age (years)\n",
    "* Weight : Weight (kg)\n",
    "* Height : Height (cm)\n",
    "* Neck : Neck circumference (cm)\n",
    "* Chest: Chest circumference (cm)\n",
    "* Abdomen : Abdomen circumference (cm)\n",
    "* Hip : Hip circumference (cm)\n",
    "* Thigh : Thigh circumference (cm)\n",
    "* Knee : Knee circumference (cm)\n",
    "* Ankle : Ankle circumference (cm)\n",
    "* Biceps : Biceps (extended) circumference (cm)\n",
    "* Forearm : Forearm circumference (cm)\n",
    "* Wrist : Wrist circumference (cm)\n",
    "\n",
    "The `Density` column is the \"gold standard\" -- it is a measure of body density obtained by dunking people in water and measuring the displacement. The `Fat` column is a prediction using another statistical model. The body mass index (BMI) is [calculated as Kg/m^2](https://en.wikipedia.org/wiki/Body_mass_index) and is used to classify people into different weight categories with a [BMI over 30 being 'obese'](https://www.medicalnewstoday.com/info/obesity). You will find that BMI is a poor predictor of the `Density` information it purports to predict. You will try to find better models using measurements and regression.\n",
    "\n",
    "Unfortunately for us, the dataset we have has imperial units for weight and height, so we will convert those to metric and then calculate the BMI and plot the KDE of the data."
   ]
  },
  {
   "cell_type": "code",
   "execution_count": 17,
   "metadata": {},
   "outputs": [
    {
     "data": {
      "image/png": "[encoded data removed]",
      "text/plain": [
       "<Figure size 432x288 with 1 Axes>"
      ]
     },
     "metadata": {},
     "output_type": "display_data"
    }
   ],
   "source": [
    "fat = pd.read_csv('bodyfat.csv')\n",
    "fat = fat.drop('Unnamed: 0', axis=1)\n",
    "fat.Weight = fat.Weight * 0.453592 # Convert to Kg\n",
    "fat.Height = fat.Height * 0.0254 # convert inches to m\n",
    "fat['BMI'] = fat.Weight / (fat.Height**2)\n",
    "fat.BMI.plot.kde();"
   ]
  },
  {
   "cell_type": "markdown",
   "metadata": {},
   "source": [
    "### 3a. [5 pts]\n",
    "The BMI has at least one outlier since it's unlikely anyone has a BMI of 165, even [Arnold Schwarzenegger](http://www.health.com/health/gallery/0,,20460621,00.html).\n",
    "\n",
    "Form a new table `cfat` (cleaned fat) that removes any rows with a BMI greater than 40 and calculate the regression model predicting the `Density` from the `BMI`. Display the summary of the regression model. You should achieve an $R^2$ of at least 0.53."
   ]
  },
  {
   "cell_type": "code",
   "execution_count": 18,
   "metadata": {
    "nbgrader": {
     "grade": true,
     "grade_id": "cell-6250a219bbe962cd",
     "locked": false,
     "points": 5,
     "schema_version": 1,
     "solution": true
    }
   },
   "outputs": [
    {
     "data": {
      "text/html": [
       "<table class=\"simpletable\">\n",
       "<caption>OLS Regression Results</caption>\n",
       "<tr>\n",
       "  <th>Dep. Variable:</th>         <td>Density</td>     <th>  R-squared:         </th> <td>   0.536</td>\n",
       "</tr>\n",
       "<tr>\n",
       "  <th>Model:</th>                   <td>OLS</td>       <th>  Adj. R-squared:    </th> <td>   0.534</td>\n",
       "</tr>\n",
       "<tr>\n",
       "  <th>Method:</th>             <td>Least Squares</td>  <th>  F-statistic:       </th> <td>   286.2</td>\n",
       "</tr>\n",
       "<tr>\n",
       "  <th>Date:</th>             <td>Tue, 06 Apr 2021</td> <th>  Prob (F-statistic):</th> <td>3.25e-43</td>\n",
       "</tr>\n",
       "<tr>\n",
       "  <th>Time:</th>                 <td>11:02:34</td>     <th>  Log-Likelihood:    </th> <td>  734.17</td>\n",
       "</tr>\n",
       "<tr>\n",
       "  <th>No. Observations:</th>      <td>   250</td>      <th>  AIC:               </th> <td>  -1464.</td>\n",
       "</tr>\n",
       "<tr>\n",
       "  <th>Df Residuals:</th>          <td>   248</td>      <th>  BIC:               </th> <td>  -1457.</td>\n",
       "</tr>\n",
       "<tr>\n",
       "  <th>Df Model:</th>              <td>     1</td>      <th>                     </th>     <td> </td>   \n",
       "</tr>\n",
       "<tr>\n",
       "  <th>Covariance Type:</th>      <td>nonrobust</td>    <th>                     </th>     <td> </td>   \n",
       "</tr>\n",
       "</table>\n",
       "<table class=\"simpletable\">\n",
       "<tr>\n",
       "      <td></td>         <th>coef</th>     <th>std err</th>      <th>t</th>      <th>P>|t|</th>  <th>[0.025</th>    <th>0.975]</th>  \n",
       "</tr>\n",
       "<tr>\n",
       "  <th>Intercept</th> <td>    1.1602</td> <td>    0.006</td> <td>  186.410</td> <td> 0.000</td> <td>    1.148</td> <td>    1.172</td>\n",
       "</tr>\n",
       "<tr>\n",
       "  <th>BMI</th>       <td>   -0.0041</td> <td>    0.000</td> <td>  -16.918</td> <td> 0.000</td> <td>   -0.005</td> <td>   -0.004</td>\n",
       "</tr>\n",
       "</table>\n",
       "<table class=\"simpletable\">\n",
       "<tr>\n",
       "  <th>Omnibus:</th>       <td> 2.262</td> <th>  Durbin-Watson:     </th> <td>   1.576</td>\n",
       "</tr>\n",
       "<tr>\n",
       "  <th>Prob(Omnibus):</th> <td> 0.323</td> <th>  Jarque-Bera (JB):  </th> <td>   2.259</td>\n",
       "</tr>\n",
       "<tr>\n",
       "  <th>Skew:</th>          <td> 0.229</td> <th>  Prob(JB):          </th> <td>   0.323</td>\n",
       "</tr>\n",
       "<tr>\n",
       "  <th>Kurtosis:</th>      <td> 2.916</td> <th>  Cond. No.          </th> <td>    195.</td>\n",
       "</tr>\n",
       "</table><br/><br/>Notes:<br/>[1] Standard Errors assume that the covariance matrix of the errors is correctly specified."
      ],
      "text/plain": [
       "<class 'statsmodels.iolib.summary.Summary'>\n",
       "\"\"\"\n",
       "                            OLS Regression Results                            \n",
       "==============================================================================\n",
       "Dep. Variable:                Density   R-squared:                       0.536\n",
       "Model:                            OLS   Adj. R-squared:                  0.534\n",
       "Method:                 Least Squares   F-statistic:                     286.2\n",
       "Date:                Tue, 06 Apr 2021   Prob (F-statistic):           3.25e-43\n",
       "Time:                        11:02:34   Log-Likelihood:                 734.17\n",
       "No. Observations:                 250   AIC:                            -1464.\n",
       "Df Residuals:                     248   BIC:                            -1457.\n",
       "Df Model:                           1                                         \n",
       "Covariance Type:            nonrobust                                         \n",
       "==============================================================================\n",
       "                 coef    std err          t      P>|t|      [0.025      0.975]\n",
       "------------------------------------------------------------------------------\n",
       "Intercept      1.1602      0.006    186.410      0.000       1.148       1.172\n",
       "BMI           -0.0041      0.000    -16.918      0.000      -0.005      -0.004\n",
       "==============================================================================\n",
       "Omnibus:                        2.262   Durbin-Watson:                   1.576\n",
       "Prob(Omnibus):                  0.323   Jarque-Bera (JB):                2.259\n",
       "Skew:                           0.229   Prob(JB):                        0.323\n",
       "Kurtosis:                       2.916   Cond. No.                         195.\n",
       "==============================================================================\n",
       "\n",
       "Notes:\n",
       "[1] Standard Errors assume that the covariance matrix of the errors is correctly specified.\n",
       "\"\"\""
      ]
     },
     "execution_count": 18,
     "metadata": {},
     "output_type": "execute_result"
    }
   ],
   "source": [
    "cfat = fat[fat.BMI<=40]\n",
    "model = smf.ols('Density~BMI', data=cfat)\n",
    "model.fit().summary()"
   ]
  },
  {
   "cell_type": "markdown",
   "metadata": {},
   "source": [
    "### 3b. [5 pts]\n",
    "Plot your regression model against the BMI measurement, properly labeling the scatterplot axes and showing the regression line. In subsequent models, you will not be able to plot the Density *vs* your predictors because you will have too many predictors, but it's useful to visually understand the relationship between the BMI predictor and the `Density` because you should find that the regression line goes through the data but there is too much variability in the data to achieve a good $R^2$."
   ]
  },
  {
   "cell_type": "code",
   "execution_count": 19,
   "metadata": {
    "nbgrader": {
     "grade": true,
     "grade_id": "cell-7ca3b6e7f3242bb2",
     "locked": false,
     "points": 5,
     "schema_version": 1,
     "solution": true
    }
   },
   "outputs": [
    {
     "data": {
      "text/plain": [
       "[<matplotlib.lines.Line2D at 0x7f44f4ec6250>]"
      ]
     },
     "execution_count": 19,
     "metadata": {},
     "output_type": "execute_result"
    },
    {
     "data": {
      "image/png": "[encoded data removed]",
      "text/plain": [
       "<Figure size 432x288 with 1 Axes>"
      ]
     },
     "metadata": {},
     "output_type": "display_data"
    }
   ],
   "source": [
    "# your answer\n",
    "ps = model.fit().params\n",
    "plt.scatter(cfat.BMI, cfat.Density)\n",
    "xs = np.linspace(15, 35)\n",
    "plt.plot(xs,ps[0]+ps[1]*xs, color='r')"
   ]
  },
  {
   "cell_type": "markdown",
   "metadata": {},
   "source": [
    "## 4. Constructing Better Predictors for Bodyfat [40 pts]"
   ]
  },
  {
   "cell_type": "markdown",
   "metadata": {},
   "source": [
    " The `BMI` model uses easy-to-measure predictors, but has a poor $R^2 \\sim 0.54$. We will use structured subset selection methods from ISLR Chapter 6.1 to derive two better predictors. That chapter covers *best subset*, *forward stepwise* and *backware stepwise* selection. I have implemented the *best subset* selection which searches across all combinations of $1, 2, \\ldots, p$ predictors and selects the best predictor based on the $\\textit{adjusted}~R^2$ metric. This method involved analyzing $2^{13} = 8192$ regression models (programming and computers for the win). The resulting $\\textit{adjusted}~R^2$ plot is shown below:\n",
    " \n",
    " <img src='fat-best-rsqadj.png'>\n",
    " \n",
    "In this plot, `test_fat` and `train_fat` datasets each containing 200 randomly selected samples were derived from the `cfat` dataset using `np.random.choice` over the `cfat.index` and selected using the Pandas `loc` method. Then, following the algorithm of ISLR Algorithm 6.1 *Best Subset Selection*, all $p \\choose k$ models with $k$ predictors were evaluated on the training data and the model returning the best $\\textit{Adjusted}~R^2$ was selected. These models are indicated by the data points for the solid blue line. As the text indicates, other measures (AIC, BIC, $C_p$) would be better than the $\\textit{Adjusted}~R^2$, but we use it becuase because you've already seen the $R^2$ and should have an understanding of what it means.\n",
    "\n",
    "Then, the best models for each $k$ were evaluated for the `test_fat` data. These results are shown as the red dots below the blue line. Note that because the test and train datasets are randomly selected subsets, the results vary from run-to-run and it may that your test data produces better $R^2$ than your training data.\n",
    "\n",
    "This splitting of the data into a test and train set is similar to the *validation set approach* that you can read about in Chapter 5 of ISLR if you choose, but differs in that the two sets may contain duplicate data. The chief reason to use a test and training set is to drill into your skull the limitation of models on unseen data.\n",
    "\n",
    "In the following exercises, you can not use the `Density`, `Fat` or `BMI` columns in your predictive models. You can only use the 13 predictors in the `allowed_factors` list."
   ]
  },
  {
   "cell_type": "code",
   "execution_count": 20,
   "metadata": {},
   "outputs": [],
   "source": [
    "allowed_factors = ['Age', 'Weight', 'Height', 'Neck', 'Chest',\n",
    "       'Abdomen', 'Hip', 'Thigh', 'Knee', 'Ankle', 'Biceps', 'Forearm',\n",
    "       'Wrist']"
   ]
  },
  {
   "cell_type": "markdown",
   "metadata": {},
   "source": [
    "## Forward Stepwise Refinement"
   ]
  },
  {
   "cell_type": "markdown",
   "metadata": {},
   "source": [
    "You will manuall perform the steps of the *forward stepwise selection* method for four parameters. You will do this following Algorithm 6.2 from ISLR. For $k = 1\\ldots 4$:\n",
    "* Set up a regression model with $k$ factors that involves the fixed predictors from the previous step $k-1$\n",
    "* Try all $p$ predictors in the new $k$th position\n",
    "* Select the best parameter using $\\textit{Adjusted}-R^2$ (e.g. `model.rsquared_adj`) given your training data\n",
    "* Fix the new parameter and continue the process for $k+1$\n",
    "\n",
    "Then, you will construct a plot similar to the one above, plotting the $\\textit{Adjusted}-R^2$ for each of your $k$ steps and plotting the $\\textit{Adjusted}-R^2$ from the test set using that model."
   ]
  },
  {
   "cell_type": "markdown",
   "metadata": {},
   "source": [
    "### 4a. [5 pts]\n",
    "First, construct your training and test sets. These should each contain 200 (possibly duplicated) samples from your `cfat` dataset:"
   ]
  },
  {
   "cell_type": "code",
   "execution_count": 21,
   "metadata": {
    "nbgrader": {
     "grade": true,
     "grade_id": "cell-e4838ff8bbd057fb",
     "locked": false,
     "points": 5,
     "schema_version": 1,
     "solution": true
    }
   },
   "outputs": [
    {
     "name": "stdout",
     "output_type": "stream",
     "text": [
      "200\n",
      "200\n"
     ]
    }
   ],
   "source": [
    "# your answer\n",
    "test_i = np.random.choice(range(len(cfat)), size=200)\n",
    "test = cfat.iloc[test_i]\n",
    "train = cfat.iloc[-test_i]\n",
    "print(len(test))\n",
    "print(len(train))"
   ]
  },
  {
   "cell_type": "code",
   "execution_count": 22,
   "metadata": {},
   "outputs": [
    {
     "name": "stdout",
     "output_type": "stream",
     "text": [
      "     Density  BodyFat  Age     Weight   Height  Neck  Chest  Abdomen    Hip  \\\n",
      "155   1.0594     17.3   28  77.791028  1.91135  35.6   92.1     83.5   98.3   \n",
      "36    1.0438     24.2   40  91.738982  1.77800  38.5  106.5    100.9  106.2   \n",
      "249   1.0328     29.3   72  84.708306  1.67640  38.9  111.1    111.5  101.7   \n",
      "128   1.0515     20.8   40  87.203062  1.86055  39.8  103.9     93.5   99.5   \n",
      "97    1.0730     11.3   50  73.708700  1.68910  38.7   99.4     86.7   96.2   \n",
      "\n",
      "     Thigh  Knee  Ankle  Biceps  Forearm  Wrist        BMI  \n",
      "155   57.3  37.8   21.7    32.2     27.7   17.7  21.293599  \n",
      "36    63.5  39.9   22.6    35.1     30.6   19.0  29.019532  \n",
      "249   60.3  37.3   21.5    31.3     27.2   18.0  30.141905  \n",
      "128   61.7  39.0   21.8    33.3     29.6   18.1  25.191211  \n",
      "97    62.1  39.3   23.3    30.6     27.8   18.2  25.834974  \n",
      "     Density  BodyFat  Age     Weight   Height  Neck  Chest  Abdomen    Hip  \\\n",
      "99    1.0484     22.2   47  89.357624  1.82880  40.0  107.5     94.0  103.7   \n",
      "216   1.0678     13.6   51  67.698606  1.77165  34.8   92.8     81.1   96.3   \n",
      "3     1.0751     10.4   26  83.801122  1.83515  37.4  101.8     86.4  101.2   \n",
      "126   1.0373     27.2   42  80.512580  1.74625  38.9   98.7     92.1   98.5   \n",
      "157   1.0761     10.0   28  82.780540  1.83515  37.0   98.5     90.8  102.5   \n",
      "\n",
      "     Thigh  Knee  Ankle  Biceps  Forearm  Wrist        BMI  \n",
      "99    62.7  39.0   22.3    35.3     30.9   18.3  26.717707  \n",
      "216   53.8  36.5   21.5    31.3     26.3   17.8  21.568695  \n",
      "3     60.1  37.3   22.8    32.4     29.4   18.2  24.883227  \n",
      "126   60.7  36.8   22.2    33.8     30.3   17.2  26.402856  \n",
      "157   60.8  38.5   25.0    31.6     28.0   18.6  24.580183  \n"
     ]
    }
   ],
   "source": [
    "print(test.head())\n",
    "print(train.head())"
   ]
  },
  {
   "cell_type": "markdown",
   "metadata": {},
   "source": [
    "### 4b. Conduct the algorithm above for $k=1$, leaving your best solution as the answer [5 pts]"
   ]
  },
  {
   "cell_type": "code",
   "execution_count": 1,
   "metadata": {
    "nbgrader": {
     "grade": true,
     "grade_id": "cell-c542ad862ad3b1f5",
     "locked": false,
     "points": 5,
     "schema_version": 1,
     "solution": true
    }
   },
   "outputs": [
    {
     "ename": "NameError",
     "evalue": "name 'allowed_factors' is not defined",
     "output_type": "error",
     "traceback": [
      "\u001b[0;31m---------------------------------------------------------------------------\u001b[0m",
      "\u001b[0;31mNameError\u001b[0m                                 Traceback (most recent call last)",
      "\u001b[0;32m<ipython-input-1-4f918232fd5b>\u001b[0m in \u001b[0;36m<module>\u001b[0;34m\u001b[0m\n\u001b[1;32m      1\u001b[0m \u001b[0;31m# your answer\u001b[0m\u001b[0;34m\u001b[0m\u001b[0;34m\u001b[0m\u001b[0;34m\u001b[0m\u001b[0m\n\u001b[1;32m      2\u001b[0m \u001b[0;34m\u001b[0m\u001b[0m\n\u001b[0;32m----> 3\u001b[0;31m \u001b[0;32mfor\u001b[0m \u001b[0mcol\u001b[0m \u001b[0;32min\u001b[0m \u001b[0mallowed_factors\u001b[0m\u001b[0;34m:\u001b[0m\u001b[0;34m\u001b[0m\u001b[0;34m\u001b[0m\u001b[0m\n\u001b[0m\u001b[1;32m      4\u001b[0m     \u001b[0mmodel\u001b[0m \u001b[0;34m=\u001b[0m \u001b[0msmf\u001b[0m\u001b[0;34m.\u001b[0m\u001b[0mols\u001b[0m\u001b[0;34m(\u001b[0m\u001b[0;34m'Density ~ '\u001b[0m\u001b[0;34m+\u001b[0m\u001b[0mcol\u001b[0m\u001b[0;34m,\u001b[0m \u001b[0mdata\u001b[0m \u001b[0;34m=\u001b[0m \u001b[0mtrain\u001b[0m\u001b[0;34m)\u001b[0m\u001b[0;34m\u001b[0m\u001b[0;34m\u001b[0m\u001b[0m\n\u001b[1;32m      5\u001b[0m     \u001b[0;31m#print(model.fit().summary())\u001b[0m\u001b[0;34m\u001b[0m\u001b[0;34m\u001b[0m\u001b[0;34m\u001b[0m\u001b[0m\n",
      "\u001b[0;31mNameError\u001b[0m: name 'allowed_factors' is not defined"
     ]
    }
   ],
   "source": [
    "# your answer\n",
    "\n",
    "for col in allowed_factors:\n",
    "    model = smf.ols('Density ~ '+col, data = train)\n",
    "    #print(model.fit().summary())\n",
    "\n",
    "model1 = smf.ols(\"Density ~ Abdomen\", data = train)\n",
    "X = sm.add_constant(np.array(test.Abdomen))"
   ]
  },
  {
   "cell_type": "code",
   "execution_count": null,
   "metadata": {},
   "outputs": [],
   "source": [
    "results = model1.fit()\n",
    "results.params\n",
    "results.predict(X)"
   ]
  },
  {
   "cell_type": "markdown",
   "metadata": {},
   "source": [
    "### 4c. Conduct the algorithm above for $k=2$, leaving your best solution as the answer [5 pts]"
   ]
  },
  {
   "cell_type": "code",
   "execution_count": null,
   "metadata": {
    "nbgrader": {
     "grade": true,
     "grade_id": "cell-dc5601cbc7971607",
     "locked": false,
     "points": 5,
     "schema_version": 1,
     "solution": true
    }
   },
   "outputs": [],
   "source": [
    "# your answer"
   ]
  },
  {
   "cell_type": "markdown",
   "metadata": {},
   "source": [
    "### 4d. Conduct the algorithm above for $k=3$, leaving your best solution as the answer [5 pts]"
   ]
  },
  {
   "cell_type": "code",
   "execution_count": null,
   "metadata": {
    "nbgrader": {
     "grade": true,
     "grade_id": "cell-8434e34c17ce2770",
     "locked": false,
     "points": 5,
     "schema_version": 1,
     "solution": true
    }
   },
   "outputs": [],
   "source": [
    "# your answer"
   ]
  },
  {
   "cell_type": "markdown",
   "metadata": {},
   "source": [
    "### 4e. Conduct the algorithm above for $k=4$, leaving your best solution as the answer [5 pts]"
   ]
  },
  {
   "cell_type": "code",
   "execution_count": null,
   "metadata": {
    "nbgrader": {
     "grade": true,
     "grade_id": "cell-40ee9bbaf801529a",
     "locked": false,
     "points": 5,
     "schema_version": 1,
     "solution": true
    }
   },
   "outputs": [],
   "source": [
    "# your answer"
   ]
  },
  {
   "cell_type": "markdown",
   "metadata": {},
   "source": [
    "### 4f. Conduct the algorithm above for $k=5$, leaving your best solution as the answer [5 pts]"
   ]
  },
  {
   "cell_type": "code",
   "execution_count": null,
   "metadata": {
    "nbgrader": {
     "grade": true,
     "grade_id": "cell-ac9188e2d358271a",
     "locked": false,
     "points": 5,
     "schema_version": 1,
     "solution": true
    }
   },
   "outputs": [],
   "source": [
    "# your answer"
   ]
  },
  {
   "cell_type": "markdown",
   "metadata": {},
   "source": [
    "### 4g. Plot [5 pts]\n",
    "\n",
    "Plot your resulting $\\textit{adjusted}~R^2$ *vs* number of predictors and overlay the $\\textit{adjusted}~R^2$ for the test data."
   ]
  },
  {
   "cell_type": "code",
   "execution_count": null,
   "metadata": {
    "nbgrader": {
     "grade": true,
     "grade_id": "cell-e20802d76918cedc",
     "locked": false,
     "points": 5,
     "schema_version": 1,
     "solution": true
    }
   },
   "outputs": [],
   "source": [
    "# your answer"
   ]
  },
  {
   "cell_type": "markdown",
   "metadata": {},
   "source": [
    "### 4h. Discussion [5 pts]\n",
    "\n",
    "The BMI model has the benefit being simple (two measurements, height and wright). Looking at your resulting regression model, how many parameters would you suggest to use for your enhanced BMI model? Justify your answer using your models."
   ]
  },
  {
   "cell_type": "code",
   "execution_count": null,
   "metadata": {
    "nbgrader": {
     "grade": true,
     "grade_id": "cell-9bf6a19839d30e80",
     "locked": false,
     "points": 5,
     "schema_version": 1,
     "solution": true
    }
   },
   "outputs": [],
   "source": [
    "# your answer"
   ]
  }
 ],
 "metadata": {
  "celltoolbar": "Create Assignment",
  "kernel_info": {
   "name": "python3"
  },
  "kernelspec": {
   "display_name": "Python 3",
   "language": "python",
   "name": "python3"
  },
  "language_info": {
   "codemirror_mode": {
    "name": "ipython",
    "version": 3
   },
   "file_extension": ".py",
   "mimetype": "text/x-python",
   "name": "python",
   "nbconvert_exporter": "python",
   "pygments_lexer": "ipython3",
   "version": "3.8.8"
  },
  "nteract": {
   "version": "0.14.5"
  }
 },
 "nbformat": 4,
 "nbformat_minor": 2
}
