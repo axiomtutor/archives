{
 "cells": [
  {
   "cell_type": "markdown",
   "metadata": {},
   "source": [
    "<figure>\n",
    "  <IMG SRC=\"https://www.colorado.edu/cs/profiles/express/themes/cuspirit/logo.png\" WIDTH=50 ALIGN=\"right\">\n",
    "</figure>\n",
    "# Discrete Probability Distributions in Python\n",
    "*CSCI 3022 - Dirk Grunwald*"
   ]
  },
  {
   "cell_type": "markdown",
   "metadata": {},
   "source": [
    "#  Distributions In Python"
   ]
  },
  {
   "cell_type": "markdown",
   "metadata": {},
   "source": [
    "Python has implementations of many different discrete probability distributions. As with most of the tools we're using, those discrete distributions are in libraries that we need to load.\n",
    "\n",
    "Let's first load the standard libraries:"
   ]
  },
  {
   "cell_type": "code",
   "execution_count": 1,
   "metadata": {
    "collapsed": true
   },
   "outputs": [],
   "source": [
    "import numpy as np\n",
    "import pandas as pd\n",
    "%matplotlib inline\n",
    "import matplotlib.pyplot as plt"
   ]
  },
  {
   "cell_type": "markdown",
   "metadata": {},
   "source": [
    "And then load the [SciPy Statistics library](https://docs.scipy.org/doc/scipy-1.0.0/reference/tutorial/stats.html). In addition to the stats library, we're going to bring in the KernelDensityEstimate library because it simplifies visualizing the probability distributions."
   ]
  },
  {
   "cell_type": "code",
   "execution_count": 2,
   "metadata": {
    "collapsed": true
   },
   "outputs": [],
   "source": [
    "import scipy.stats as stats\n",
    "import scipy.stats.kde"
   ]
  },
  {
   "cell_type": "markdown",
   "metadata": {},
   "source": [
    "# Discrete Distributions"
   ]
  },
  {
   "cell_type": "markdown",
   "metadata": {},
   "source": [
    "We're going to focus on discrete distributions. The [SciPy documentation for discrete distributions](https://docs.scipy.org/doc/scipy-1.0.0/reference/tutorial/stats/discrete.html) has a long narrative about the different information that they have for each distribution.\n",
    "\n",
    "The library features a common naming convention -- once you understand how to use or access one distribution, you'll be able to apply that knowledge to the others.\n",
    "\n",
    "We're going to use the Binomial distribution to start out tour.\n",
    "In this tutorial, we're mainly going to focus on accessing the *probability mass function* (PMF), the *cummulative* probability distribution (CDF) and generate samples from the distribution.\n",
    "\n",
    "In addition, we're going to use the PMF and CDF to determine the *quantiles* or *percentile* values for the distributions. These are the *inverses* of the PMF and CDF and can be used to answer questions. In the SciPy nomenclature, this is the *percent point function* (PPF), which."
   ]
  },
  {
   "cell_type": "markdown",
   "metadata": {},
   "source": [
    "## The Probability Mass Function"
   ]
  },
  {
   "cell_type": "markdown",
   "metadata": {},
   "source": [
    "Recall that the PMF $f(x)$ for a probability distribution is the probability that the R.V. takes on value $x$.\n",
    "\n",
    "For example, for the binomial distribution with parameters (n=10,p=0.5) we can determine the value $f(8)$ using:"
   ]
  },
  {
   "cell_type": "code",
   "execution_count": 3,
   "metadata": {},
   "outputs": [
    {
     "data": {
      "text/plain": [
       "0.20507812500000022"
      ]
     },
     "execution_count": 3,
     "metadata": {},
     "output_type": "execute_result"
    }
   ],
   "source": [
    "n = 10\n",
    "p = 0.5\n",
    "stats.binom.pmf(6, n=n, p=p)"
   ]
  },
  {
   "cell_type": "markdown",
   "metadata": {},
   "source": [
    "This means that P(X = 6) = 0.205 for those parameters. We can use the PMF to draw a plot of the PDF of the binomial distribution:"
   ]
  },
  {
   "cell_type": "code",
   "execution_count": 4,
   "metadata": {},
   "outputs": [
    {
     "data": {
      "image/png": "[encoded data removed]",
      "text/plain": [
       "<matplotlib.figure.Figure at 0x10cdee8d0>"
      ]
     },
     "metadata": {},
     "output_type": "display_data"
    }
   ],
   "source": [
    "x_binom = np.arange(0,20)\n",
    "y_pdf = stats.binom.pmf(x_binom, n=n, p=p)\n",
    "plt.plot(x_binom, y_pdf);"
   ]
  },
  {
   "cell_type": "markdown",
   "metadata": {},
   "source": [
    "It gets awkward to be constantly specifying the parameters of the distribution in each use of the binomial. SciPy can return a \"frozen\" representation of the distribution that contains all of the parameters that would need to be specified.\n",
    "\n",
    "Let's reproduce the plot above using that notation."
   ]
  },
  {
   "cell_type": "code",
   "execution_count": 5,
   "metadata": {},
   "outputs": [
    {
     "data": {
      "image/png": "[encoded data removed]",
      "text/plain": [
       "<matplotlib.figure.Figure at 0x10e0c0a20>"
      ]
     },
     "metadata": {},
     "output_type": "display_data"
    }
   ],
   "source": [
    "brr = stats.binom(n=n, p=p)   # make frozen binomial\n",
    "plt.plot( x_binom, brr.pmf(x_binom) );"
   ]
  },
  {
   "cell_type": "markdown",
   "metadata": {},
   "source": [
    "Since this is an easier form to use (less typing and less chance of a mistake), we'll use the \"frozen\" form as we explore the distribution."
   ]
  },
  {
   "cell_type": "markdown",
   "metadata": {},
   "source": [
    "## The Cummulative Distribution Function"
   ]
  },
  {
   "cell_type": "markdown",
   "metadata": {},
   "source": [
    "The PMF shows the probability of getting precisely the specified value -- *i.e.* $P(X=6)$.\n",
    "\n",
    "The *Cummulative Distribution Function* (CDF) computes $P(X \\leq 6)$, the probability of having 6 or few \"success\" events."
   ]
  },
  {
   "cell_type": "code",
   "execution_count": 6,
   "metadata": {},
   "outputs": [
    {
     "data": {
      "text/plain": [
       "0.828125"
      ]
     },
     "execution_count": 6,
     "metadata": {},
     "output_type": "execute_result"
    }
   ],
   "source": [
    "brr.cdf(6)"
   ]
  },
  {
   "cell_type": "markdown",
   "metadata": {},
   "source": [
    "This means that 82.8% of the outcomes from this binomial distribution will be less than or equal to 6. This corresponds to the the area in this plot:"
   ]
  },
  {
   "cell_type": "code",
   "execution_count": 7,
   "metadata": {},
   "outputs": [
    {
     "data": {
      "image/png": "[encoded data removed]",
      "text/plain": [
       "<matplotlib.figure.Figure at 0x10e1fd518>"
      ]
     },
     "metadata": {},
     "output_type": "display_data"
    }
   ],
   "source": [
    "plt.plot(x_binom, y_pdf)\n",
    "leq6 = x_binom <= 6        # figure out which values are <= 8\n",
    "plt.fill_between(x_binom[leq6], y_pdf[leq6]);"
   ]
  },
  {
   "cell_type": "markdown",
   "metadata": {},
   "source": [
    "Rather than constantly integrate the area under the PMF curve when you're trying to compute $P(X \\leq x)$, the cummulative distribution function can be used to determine $P(X \\leq x)$.\n",
    "\n",
    "We can  draw the cummulative distribution function (CDF) using the `binom.cdf` function. The CDF ranges from 0 $\\rightarrow$ 1 with the same domain as the PMF (*e.g.* $0 \\rightarrow \\infty$ for the binomial distribution)"
   ]
  },
  {
   "cell_type": "code",
   "execution_count": 8,
   "metadata": {},
   "outputs": [
    {
     "data": {
      "image/png": "[encoded data removed]",
      "text/plain": [
       "<matplotlib.figure.Figure at 0x10e2494a8>"
      ]
     },
     "metadata": {},
     "output_type": "display_data"
    }
   ],
   "source": [
    "x_binom = np.arange(-10,20)\n",
    "y_cdf = brr.cdf( x_binom )\n",
    "plt.plot(x_binom, y_cdf);\n",
    "\n",
    "CDF_input = 6\n",
    "CDF_output = brr.cdf(6)\n",
    "\n",
    "plt.arrow(CDF_input, 0, 0, CDF_output,\\\n",
    "          head_width=1, head_length=0.05, length_includes_head = True);\n",
    "plt.arrow(CDF_input, CDF_output, -CDF_input-10, 0, \\\n",
    "          head_width=0.05, head_length=1, length_includes_head = True);"
   ]
  },
  {
   "cell_type": "markdown",
   "metadata": {
    "slideshow": {
     "slide_type": "slide"
    }
   },
   "source": [
    "The clue curve shows the general CDF curve and the arrows show one way to interpret this -- we calculated CDF(6) to be 0.828."
   ]
  },
  {
   "cell_type": "markdown",
   "metadata": {},
   "source": [
    "## The Point Percentage Function (PPF -- *aka* Quantiles)"
   ]
  },
  {
   "cell_type": "markdown",
   "metadata": {},
   "source": [
    "The *Point Percentage Function* (PPF) computes the inverse of the CDF. In otherwords what is the input to the CDF function that would produce 0.828?\n",
    "\n",
    "This is also known as a *quantile* of a distribution and is covered in Chapter 5 of MIPS."
   ]
  },
  {
   "cell_type": "code",
   "execution_count": 9,
   "metadata": {},
   "outputs": [
    {
     "name": "stdout",
     "output_type": "stream",
     "text": [
      "CDF( 6.0 ) =  0.828\n",
      "PPF( 0.828 )=  6.0\n"
     ]
    },
    {
     "data": {
      "image/png": "[encoded data removed]",
      "text/plain": [
       "<matplotlib.figure.Figure at 0x1a15e0e4a8>"
      ]
     },
     "metadata": {},
     "output_type": "display_data"
    }
   ],
   "source": [
    "plt.plot(x_binom, y_cdf);\n",
    "\n",
    "CDF_output = 0.828\n",
    "CDF_input = brr.ppf(CDF_output)\n",
    "\n",
    "print('CDF(', CDF_input, ') = ', CDF_output)\n",
    "print('PPF(', CDF_output, ')= ', CDF_input)\n",
    "\n",
    "plt.arrow(-10, CDF_output, 10 + CDF_input, 0, \\\n",
    "          head_width=0.05, head_length=1, length_includes_head = True)\n",
    "plt.arrow(6, CDF_output, 0, -CDF_output,\\\n",
    "          head_width=1, head_length=0.05, length_includes_head = True);"
   ]
  },
  {
   "cell_type": "markdown",
   "metadata": {},
   "source": [
    "\n",
    "Sometimes, given a $y$, we want to know the $x$ for which $P(X \\leq x) = y$ - in other words, given the CDF output (which was 0.828), what's the CDF input (which was 6). This is what the *percent point function* (PPF) is for."
   ]
  },
  {
   "cell_type": "markdown",
   "metadata": {},
   "source": [
    "## Using the CDF to draw samples"
   ]
  },
  {
   "cell_type": "markdown",
   "metadata": {},
   "source": [
    "We'll see that the CDF is typically \"more important\" than the PMF when calculating and generating samples of a distribution.\n",
    "\n",
    "In the discrete distributions, we can use the CDF to compute the PMF for a particular point using $P(X \\leq x) - P(X \\leq (x-1))$. For example:"
   ]
  },
  {
   "cell_type": "code",
   "execution_count": 10,
   "metadata": {},
   "outputs": [
    {
     "name": "stdout",
     "output_type": "stream",
     "text": [
      "the PMF(6) is 0.205078125\n",
      "the CDF(6)-CDF(5) is 0.205078125\n"
     ]
    }
   ],
   "source": [
    "print(\"the PMF(6) is\", brr.pmf(6))\n",
    "print(\"the CDF(6)-CDF(5) is\",  brr.cdf(6) - brr.cdf(5))"
   ]
  },
  {
   "cell_type": "markdown",
   "metadata": {},
   "source": [
    "We can also use the CDF to generate a random sample from the discrete distributions. For example, let's pick a random number between 0 and 1"
   ]
  },
  {
   "cell_type": "code",
   "execution_count": 14,
   "metadata": {},
   "outputs": [
    {
     "name": "stdout",
     "output_type": "stream",
     "text": [
      "This is a random number:  0.5960334683938564\n"
     ]
    }
   ],
   "source": [
    "import random\n",
    "r = random.uniform(0,1)\n",
    "print(\"This is a random number: \", r)"
   ]
  },
  {
   "cell_type": "code",
   "execution_count": 17,
   "metadata": {},
   "outputs": [
    {
     "name": "stdout",
     "output_type": "stream",
     "text": [
      "Given  0.5960334683938564 the input to the binomial distribution is 5.0\n",
      "In other words, CDF( 5.0 ) =  0.623046875\n"
     ]
    }
   ],
   "source": [
    "r_inv = brr.ppf( r ) \n",
    "print(\"Given \", r, \"the input to the binomial distribution is\", r_inv)\n",
    "\n",
    "print(\"In other words, CDF(\", r_inv, \") = \", brr.cdf(r_inv))"
   ]
  },
  {
   "cell_type": "markdown",
   "metadata": {},
   "source": [
    "## Using built-in methods to draw samples"
   ]
  },
  {
   "cell_type": "markdown",
   "metadata": {},
   "source": [
    "We don't need to use the hacky method shown above to draw samples from the distribution -- each distribution in SciPy's stats library has an `rvs` method for that.\n",
    "\n",
    "The name `rvs` is short for \"*Random Variates*\" -- a [random variate](https://en.wikipedia.org/wiki/Random_variate) is a particular outcome from a probability distribution (*i.e.* \"drawing\" a sample from that distribution).\n",
    "\n",
    "Let's draw 5 samples from our binomial distribution:"
   ]
  },
  {
   "cell_type": "code",
   "execution_count": 18,
   "metadata": {},
   "outputs": [
    {
     "data": {
      "text/plain": [
       "array([5, 6, 7, 4, 4])"
      ]
     },
     "execution_count": 18,
     "metadata": {},
     "output_type": "execute_result"
    }
   ],
   "source": [
    "brr.rvs(size=5)"
   ]
  },
  {
   "cell_type": "markdown",
   "metadata": {},
   "source": [
    "Let's see what happens when we draw many many samples and make a histogram of them:"
   ]
  },
  {
   "cell_type": "code",
   "execution_count": 19,
   "metadata": {},
   "outputs": [
    {
     "data": {
      "image/png": "[encoded data removed]",
      "text/plain": [
       "<matplotlib.figure.Figure at 0x1a15ede208>"
      ]
     },
     "metadata": {},
     "output_type": "display_data"
    }
   ],
   "source": [
    "plt.hist( brr.rvs(size=10000));"
   ]
  },
  {
   "cell_type": "markdown",
   "metadata": {},
   "source": [
    "The shape of this data is the same shape as the PMF of the distribution -- the samples that we draw were drawn with probability proportional to the PMF value."
   ]
  },
  {
   "cell_type": "markdown",
   "metadata": {},
   "source": [
    "## Other measures from the stats library"
   ]
  },
  {
   "cell_type": "markdown",
   "metadata": {},
   "source": [
    "In addition to drawing samples and calculating the PMF, CDF and PPF, the stats library has additional routines for each distribution.\n",
    "\n",
    "The one's we'll common use are the mean (average), median and variance.\n",
    "\n",
    "We can also use the PPF to compute *e.g.* the Inter-Quartile Range*"
   ]
  },
  {
   "cell_type": "code",
   "execution_count": 20,
   "metadata": {},
   "outputs": [
    {
     "name": "stdout",
     "output_type": "stream",
     "text": [
      "Mean is 5.0\n",
      "Variance is 2.5\n",
      "IQR is 2.0\n"
     ]
    }
   ],
   "source": [
    "print(\"Mean is\", brr.mean())\n",
    "\n",
    "print(\"Variance is\", brr.var())\n",
    "\n",
    "print(\"IQR is\", brr.ppf(0.75) - brr.ppf(0.25))"
   ]
  },
  {
   "cell_type": "markdown",
   "metadata": {},
   "source": [
    "Note that these are the *population* mean and variance -- *i.e.* the theoretical mean of the distribution (which we'll be addressing shortly).\n",
    "\n",
    "If you want to calculate a *sample mean* from random variates drawn from a distribution, we would use the NumPy routines:"
   ]
  },
  {
   "cell_type": "code",
   "execution_count": 24,
   "metadata": {},
   "outputs": [
    {
     "data": {
      "text/plain": [
       "4.9500000000000002"
      ]
     },
     "execution_count": 24,
     "metadata": {},
     "output_type": "execute_result"
    }
   ],
   "source": [
    "np.mean( brr.rvs(size=20))"
   ]
  },
  {
   "cell_type": "markdown",
   "metadata": {},
   "source": [
    "# Sample Discrete Distributions"
   ]
  },
  {
   "cell_type": "markdown",
   "metadata": {},
   "source": [
    "The SciPy package contains the following distributions we've discussed in this class:\n",
    "\n",
    "* [Bernoulli Distribution](https://docs.scipy.org/doc/scipy-1.0.0/reference/tutorial/stats/discrete_bernoulli.html)\n",
    "* [Binomial Distribution](https://docs.scipy.org/doc/scipy-1.0.0/reference/tutorial/stats/discrete_binom.html)\n",
    "* [Geometric Distribution](https://docs.scipy.org/doc/scipy-1.0.0/reference/tutorial/stats/discrete_geom.html)\n",
    "* [Poisson Distribution](https://docs.scipy.org/doc/scipy-1.0.0/reference/tutorial/stats/discrete_poisson.html)\n",
    "\n",
    "\n",
    "Let's show the sample PMF of each of these by drawing samples and plotting a histogram, just as we did for the Binomial distribution."
   ]
  },
  {
   "cell_type": "markdown",
   "metadata": {},
   "source": [
    "## Bernoulli"
   ]
  },
  {
   "cell_type": "code",
   "execution_count": 26,
   "metadata": {},
   "outputs": [
    {
     "data": {
      "image/png": "[encoded data removed]",
      "text/plain": [
       "<matplotlib.figure.Figure at 0x10e32a630>"
      ]
     },
     "metadata": {},
     "output_type": "display_data"
    }
   ],
   "source": [
    "plt.hist( stats.bernoulli.rvs(p=p, size=100 ));"
   ]
  },
  {
   "cell_type": "code",
   "execution_count": 27,
   "metadata": {},
   "outputs": [
    {
     "data": {
      "image/png": "[encoded data removed]",
      "text/plain": [
       "<matplotlib.figure.Figure at 0x1a15e099e8>"
      ]
     },
     "metadata": {},
     "output_type": "display_data"
    }
   ],
   "source": [
    "# Using \"frozen\" form\n",
    "\n",
    "frozen_bernoulli = stats.bernoulli(p=p)\n",
    "\n",
    "plt.hist( frozen_bernoulli.rvs(size=100));"
   ]
  },
  {
   "cell_type": "markdown",
   "metadata": {},
   "source": [
    "## Geometric"
   ]
  },
  {
   "cell_type": "code",
   "execution_count": 28,
   "metadata": {},
   "outputs": [
    {
     "data": {
      "image/png": "[encoded data removed]",
      "text/plain": [
       "<matplotlib.figure.Figure at 0x1a15ed5668>"
      ]
     },
     "metadata": {},
     "output_type": "display_data"
    }
   ],
   "source": [
    "plt.hist( stats.geom.rvs(p=p, size=100 ));"
   ]
  },
  {
   "cell_type": "markdown",
   "metadata": {},
   "source": [
    "## Poisson"
   ]
  },
  {
   "cell_type": "code",
   "execution_count": 30,
   "metadata": {},
   "outputs": [
    {
     "data": {
      "image/png": "[encoded data removed]",
      "text/plain": [
       "<matplotlib.figure.Figure at 0x1a164890f0>"
      ]
     },
     "metadata": {},
     "output_type": "display_data"
    }
   ],
   "source": [
    "plt.hist( stats.poisson.rvs(mu=4, size=1000 ));"
   ]
  },
  {
   "cell_type": "code",
   "execution_count": null,
   "metadata": {
    "collapsed": true
   },
   "outputs": [],
   "source": []
  }
 ],
 "metadata": {
  "kernelspec": {
   "display_name": "Python 3",
   "language": "python",
   "name": "python3"
  },
  "language_info": {
   "codemirror_mode": {
    "name": "ipython",
    "version": 3
   },
   "file_extension": ".py",
   "mimetype": "text/x-python",
   "name": "python",
   "nbconvert_exporter": "python",
   "pygments_lexer": "ipython3",
   "version": "3.8.5"
  }
 },
 "nbformat": 4,
 "nbformat_minor": 2
}
