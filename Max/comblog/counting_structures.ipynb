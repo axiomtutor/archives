{
 "metadata": {
  "language_info": {
   "codemirror_mode": {
    "name": "ipython",
    "version": 3
   },
   "file_extension": ".py",
   "mimetype": "text/x-python",
   "name": "python",
   "nbconvert_exporter": "python",
   "pygments_lexer": "ipython3",
   "version": "3.8.5-final"
  },
  "orig_nbformat": 2,
  "kernelspec": {
   "name": "python3",
   "display_name": "Python 3.8.5 64-bit ('base': conda)",
   "metadata": {
    "interpreter": {
     "hash": "f499021c34f43ea28cbd4db17d7831d0539f89e9f3157af834436dbbacfa6567"
    }
   }
  }
 },
 "nbformat": 4,
 "nbformat_minor": 2,
 "cells": [
  {
   "cell_type": "code",
   "execution_count": 8,
   "metadata": {},
   "outputs": [],
   "source": [
    "import pandas as pd\n",
    "types_table = pd.DataFrame({1:[], 2:[], 3:[]})"
   ]
  },
  {
   "source": [
    "Suppose we have three elements of the domain, $U^\\mathcal A = \\{1,2,3\\}$ and three types $T_1,T_2,T_3$.  We want all structures realizing all three types.  Of course, we can manually list them in this special and simple case:  \n",
    "\n",
    "1 is of type $T_1$, 2 is of type $T_2$, 3 is of type $T_3$\n",
    "\n",
    "1 is of type $T_1$, 2 is of type $T_3$, 3 is of type $T_2$\n",
    "\n",
    "1 is of type $T_2$, 2 is of type $T_1$, 3 is of type $T_3$\n",
    "\n",
    "1 is of type $T_2$, 2 is of type $T_3$, 3 is of type $T_1$\n",
    "\n",
    "1 is of type $T_3$, 2 is of type $T_1$, 3 is of type $T_2$\n",
    "\n",
    "1 is of type $T_3$, 2 is of type $T_2$, 3 is of type $T_1$\n",
    "\n",
    "But we want to see the technique in action where we first over-count, then subtract off an approximation of the over-counting, but then add in an approximation of the over-subtraction and so on.  First we generate lists containing all possible combinations of types. This is an over-count of all ways that structures could realize the three types.  "
   ],
   "cell_type": "markdown",
   "metadata": {}
  },
  {
   "cell_type": "code",
   "execution_count": 9,
   "metadata": {},
   "outputs": [
    {
     "output_type": "execute_result",
     "data": {
      "text/plain": [
       "[1,\n",
       " 1,\n",
       " 1,\n",
       " 1,\n",
       " 1,\n",
       " 1,\n",
       " 1,\n",
       " 1,\n",
       " 1,\n",
       " 2,\n",
       " 2,\n",
       " 2,\n",
       " 2,\n",
       " 2,\n",
       " 2,\n",
       " 2,\n",
       " 2,\n",
       " 2,\n",
       " 3,\n",
       " 3,\n",
       " 3,\n",
       " 3,\n",
       " 3,\n",
       " 3,\n",
       " 3,\n",
       " 3,\n",
       " 3]"
      ]
     },
     "metadata": {},
     "execution_count": 9
    }
   ],
   "source": [
    "c1 = [1+round(x // 9) for x in range(27)]\n",
    "c1"
   ]
  },
  {
   "cell_type": "code",
   "execution_count": 10,
   "metadata": {},
   "outputs": [
    {
     "output_type": "execute_result",
     "data": {
      "text/plain": [
       "[1,\n",
       " 1,\n",
       " 1,\n",
       " 2,\n",
       " 2,\n",
       " 2,\n",
       " 3,\n",
       " 3,\n",
       " 3,\n",
       " 1,\n",
       " 1,\n",
       " 1,\n",
       " 2,\n",
       " 2,\n",
       " 2,\n",
       " 3,\n",
       " 3,\n",
       " 3,\n",
       " 1,\n",
       " 1,\n",
       " 1,\n",
       " 2,\n",
       " 2,\n",
       " 2,\n",
       " 3,\n",
       " 3,\n",
       " 3]"
      ]
     },
     "metadata": {},
     "execution_count": 10
    }
   ],
   "source": [
    "c2 = [1+(round(x//3) % 3) for x in range(27)]\n",
    "c2"
   ]
  },
  {
   "cell_type": "code",
   "execution_count": 11,
   "metadata": {},
   "outputs": [
    {
     "output_type": "execute_result",
     "data": {
      "text/plain": [
       "[1,\n",
       " 2,\n",
       " 3,\n",
       " 1,\n",
       " 2,\n",
       " 3,\n",
       " 1,\n",
       " 2,\n",
       " 3,\n",
       " 1,\n",
       " 2,\n",
       " 3,\n",
       " 1,\n",
       " 2,\n",
       " 3,\n",
       " 1,\n",
       " 2,\n",
       " 3,\n",
       " 1,\n",
       " 2,\n",
       " 3,\n",
       " 1,\n",
       " 2,\n",
       " 3,\n",
       " 1,\n",
       " 2,\n",
       " 3]"
      ]
     },
     "metadata": {},
     "execution_count": 11
    }
   ],
   "source": [
    "c3 = [1+(x % 3) for x in range(27)]\n",
    "c3"
   ]
  },
  {
   "cell_type": "code",
   "execution_count": 12,
   "metadata": {},
   "outputs": [
    {
     "output_type": "stream",
     "name": "stdout",
     "text": [
      " 1  1  1\n 1  1  2\n 1  1  3\n 1  2  1\n 1  2  2\n 1  2  3\n 1  3  1\n 1  3  2\n 1  3  3\n 2  1  1\n 2  1  2\n 2  1  3\n 2  2  1\n 2  2  2\n 2  2  3\n 2  3  1\n 2  3  2\n 2  3  3\n 3  1  1\n 3  1  2\n 3  1  3\n 3  2  1\n 3  2  2\n 3  2  3\n 3  3  1\n 3  3  2\n 3  3  3\n"
     ]
    }
   ],
   "source": [
    "types_table[1]=c1\n",
    "types_table[2]=c2\n",
    "types_table[3]=c3\n",
    "print(types_table.to_string(index=False, header=False))"
   ]
  },
  {
   "source": [
    "The above is counted by $3^3$.  But you can see that most of the rows are not what we want. \n",
    "\n",
    "So we start by picking a type, and subtracting off all the rows which are missing that type.  For instance, if we pick $T_1$ then we want to subtract all rows missing $T_1$.  We approximate this as $2^3$ with the idea that, for each of the three elements, there are now two types that each could be.  The table of all elements counted by this is:"
   ],
   "cell_type": "markdown",
   "metadata": {}
  },
  {
   "cell_type": "code",
   "execution_count": 13,
   "metadata": {},
   "outputs": [
    {
     "output_type": "stream",
     "name": "stdout",
     "text": [
      " 2  2  2\n 2  2  3\n 2  3  2\n 2  3  3\n 3  2  2\n 3  2  3\n 3  3  2\n 3  3  3\n"
     ]
    }
   ],
   "source": [
    "sub_tab1 = types_table[(types_table[1]!=1) & (types_table[2]!=1) & (types_table[3]!=1)]\n",
    "print(sub_tab1.to_string(index=False, header=False))"
   ]
  },
  {
   "cell_type": "code",
   "execution_count": 14,
   "metadata": {},
   "outputs": [
    {
     "output_type": "stream",
     "name": "stdout",
     "text": [
      "8\n"
     ]
    }
   ],
   "source": [
    "print(len(sub_tab1))"
   ]
  },
  {
   "source": [
    "We also want to subtract out all the structures where $T_2$ is missing, and by the same logic there are $2^3$ of these.  So we are now approximating the number of desired structures is \n",
    "\n",
    "$$ 3^3-\\binom 3 1 2^3 $$\n",
    "\n",
    "where $\\binom 3 1$ is counting the three different choices of a type to pick and then count up rows which lack it.  \n",
    "\n",
    "But in subtracting out the rows which lack a 1 and the rows which lack a 2, there is double-subtracting because some rows lack both a 1 and a 2.  (If this process had kept going we would also need to consider rows that we had tripple subtracted when they lacked types 1, 2, and 3.  However, it is impossible for a row to lack all three types in our current example, so at this stage things come to an end, because \"further double-counting\" no longer happens at this point.)  \n",
    "\n",
    "So we need to add back in the rows which lack two types, in order to cancel the double-subtraction that we've just done.  That means we pick any two types and there are $\\binom 3 2 = 3$ ways to do that. Then count the ways that a row could be formed which lacks these two types.  If it lacks two types then each element is assigned just one choice of type, so there are $1^3$ ways to do this.  Thus in total we add back in $\\binom 3 2 1^3$ to correct the over-subtraction.  The result is \n",
    "\n",
    "$$ 3^3 - \\binom 3 1 2^3 + \\binom 3 2 1^3 = 27-3\\cdot 8+3 = 30-24 = 6 $$\n",
    "\n",
    "which we knew to be the right answer.  "
   ],
   "cell_type": "markdown",
   "metadata": {}
  },
  {
   "source": [
    "# As an application of Inclusion-Exclusion\n",
    "\n",
    "I got close to realizing last night how this is an instance of inclusion-exclusion.  Having just run through it above, I think I now see how that is so.  I'm going to start just by describing some pure counting principles about this, and then after that link it to our particular problem.  \n",
    "\n",
    "First note that when every set and every chain of intersections is the same size, then $|A|+|B|+|C|=3|A|$ for instance.  And $|A\\cap B|=|A\\cap C|=|B\\cap C|$ so that the sum of these three is $3|A\\cap B|$, and so on.  If we had four sets where all chains of intersections were the same size, then we could have a more interesting example, like \n",
    "\n",
    "$$ |A\\cap B|=|A\\cap C|=|A\\cap D|=\\dots = |C\\cap D| \\Rightarrow |A\\cap B|+|A\\cap C|+|A\\cap D|+\\dots + |C\\cap D| = \\binom 4 2 |A\\cap B|  $$\n",
    "\n",
    "In this special case the inclusion-exclusion principle becomes \n",
    "\n",
    "$$ |A_1\\cup A_2\\cup \\dots\\cup A_n| = \\binom n 1 |A_1| - \\binom n 2 |A_1 \\cap A_2| + \\dots \\pm \\binom{n}{n} |A_1 \\cap \\dots \\cap A_n| $$\n",
    "\n",
    "Next note that inclusion-exclusion has a \"complementary version\".  That is to say, the basic version of inclusion-exclusion is (for the case of three sets)\n",
    "\n",
    "$$ |A\\cup B\\cup C| = |A|+|B|+|C|-(|A\\cap B|+|A\\cap C|+|B\\cap C|)+|A\\cap B\\cap C| $$\n",
    "\n",
    "but we can apply De Morgans to each intersection and turn it into a complement of a union.  So for instance $A\\cap B = \\overline{\\overline A \\cup \\overline B \\ }$.  Therefore \n",
    "\n",
    "$$ |A\\cup B\\cup C| = |A|+|B|+|C|-\\left(\\left|\\overline{\\overline A \\cup \\overline B \\ }\\right|+\\left|\\overline{\\overline A \\cup \\overline C \\ }\\right|+\\left|\\overline{\\overline B \\cup \\overline C \\ }\\right|\\right)+\\left|\\overline{\\overline A \\cup \\overline B \\cup \\overline C\\ \\ }\\right| $$\n",
    "\n",
    "If we then put this insight together with the earlier insight, then we have that (in the special case where all intersections of the same number of sets have the same size)\n",
    "\n",
    "$$ |A_1\\cup A_2\\cup \\dots\\cup A_n| = \\binom n 1 |A_1| - \\binom n 2 \\left|\\overline{\\overline A_1 \\cup \\overline A_2 \\ }\\right| + \\dots \\pm \\binom{n}{n} \\left|\\overline{\\overline A_1 \\cup \\dots\\cup \\overline A_n \\ }\\right| $$\n",
    "\n",
    "This is the version of the inclusion-exclusion principle that we'll use for our problem.  "
   ],
   "cell_type": "markdown",
   "metadata": {}
  },
  {
   "source": [
    "## How this applies to our problem\n",
    "\n",
    "We will take $A_1$ to be the set of all structures realizing type $T_1$, $A_2$ the set of structures realizing $T_2$, and so on.  Note that these have overlap, but they are exhaustive in the sense that their union is the set of all structures.  Hence $|A_1\\cup A_2\\cup A_3|=3^3$.  \n",
    "\n",
    "Also note that the thing we are trying to count, the set of all structures where all three types are realized, is equal to $A_1\\cap A_2\\cap A_3$ which is the last term in the inclusion-exclusion expression.  \n",
    "\n",
    "Further note that by mere symmetry considerations we can easily see that $|A_1|=|A_2|=|A_3|$.  Likewise by symmetry $|A_1\\cap A_2|=|A_1\\cap A_3|$ and so on, so that we satisfy the special case mentioned above.  To summarize what I've brought us to so far, we are looking at the equation \n",
    "\n",
    "$$ \\text{The thing we want} = \\binom n n |A_1\\cap A_2\\cap \\dots \\cap A_n| $$\n",
    "$$= |A_1\\cup \\dots\\cup A_n| - \\left( \\binom n 1 |A_1| - \\binom n 2 \\left|\\overline{\\overline A_1 \\cup \\overline A_2 \\ }\\right| + \\dots \\pm \\binom{n}{n-1} \\left|\\overline{\\overline A_1 \\cup \\dots\\cup \\overline A_{n-1} \\ }\\right|\\right)$$\n",
    "$$ = 3^3 - \\left( \\binom n 1 |A_1| - \\binom n 2 \\left|\\overline{\\overline A_1 \\cup \\overline A_2 \\ }\\right| + \\dots \\pm \\binom{n}{n-1} \\left|\\overline{\\overline A_1 \\cup \\dots\\cup \\overline A_{n-1} \\ }\\right|\\right)$$\n",
    "\n",
    "So if we can just count \n",
    "\n",
    "$$ |A_1|, $$\n",
    "$$ \\left|\\overline{\\overline A_1 \\cup \\overline A_2 \\ }\\right|, $$\n",
    "$$\\vdots, $$\n",
    "$$ \\left|\\overline{\\overline A_1 \\cup\\dots \\cup \\overline A_{n-1} \\ }\\right|$$\n",
    "\n",
    "for each $n$ then we can get the answer. \n"
   ],
   "cell_type": "markdown",
   "metadata": {}
  },
  {
   "source": [
    "So how do we count $|A_1|$?  Well that's just the set of structures which realize type 1.  That's easiest to count by counting the complement:  All structures which fail to realize type 1.  That's all structures made from just two types.  (Notice how this is the same thing that we counted without using inclusion-exclusion and thinking about it directly).  There are $2^3$ structures that lack type 1.  So $|A_1|=3^3-2^3$.  This looks close to what we did before but not exactly the same because we didn't have the $3^3$ when we examined this part.  But let's just leave it and see if something good happens as we move to the next part.  \n",
    "\n",
    "Next how do we count $\\left|\\overline{\\overline A_1 \\cup \\overline A_2 \\ }\\right|$?  If we can count just $\\overline A_1\\cup \\overline A_2$ that's a start.  But this is just the set of all structures which either lack type 2 or lack type 3 (or both).  "
   ],
   "cell_type": "markdown",
   "metadata": {}
  },
  {
   "cell_type": "code",
   "execution_count": null,
   "metadata": {},
   "outputs": [],
   "source": []
  }
 ]
}